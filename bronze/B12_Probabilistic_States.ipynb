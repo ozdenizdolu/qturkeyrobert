{
 "cells": [
  {
   "cell_type": "markdown",
   "metadata": {},
   "source": [
    "<table>\n",
    "    <tr><td align=\"right\" style=\"background-color:#ffffff;\">\n",
    "        <img src=\"../images/logo.jpg\" width=\"20%\" align=\"right\">\n",
    "    </td></tr>\n",
    "    <tr><td align=\"right\" style=\"color:#777777;background-color:#ffffff;font-size:12px;\">\n",
    "        Prepared by Abuzer Yakaryilmaz <br>\n",
    "        Özlem Salehi | February 14, 2020 (updated)\n",
    "    </td></tr>\n",
    "    <tr><td align=\"right\" style=\"color:#bbbbbb;background-color:#ffffff;font-size:11px;font-style:italic;\">\n",
    "        This cell contains some macros. If there is a problem with displaying mathematical formulas, please run this cell to load these macros.\n",
    "    </td></tr>\n",
    "</table>\n",
    "$ \\newcommand{\\bra}[1]{\\langle #1|} $\n",
    "$ \\newcommand{\\ket}[1]{|#1\\rangle} $\n",
    "$ \\newcommand{\\braket}[2]{\\langle #1|#2\\rangle} $\n",
    "$ \\newcommand{\\dot}[2]{ #1 \\cdot #2} $\n",
    "$ \\newcommand{\\biginner}[2]{\\left\\langle #1,#2\\right\\rangle} $\n",
    "$ \\newcommand{\\mymatrix}[2]{\\left( \\begin{array}{#1} #2\\end{array} \\right)} $\n",
    "$ \\newcommand{\\myvector}[1]{\\mymatrix{c}{#1}} $\n",
    "$ \\newcommand{\\myrvector}[1]{\\mymatrix{r}{#1}} $\n",
    "$ \\newcommand{\\mypar}[1]{\\left( #1 \\right)} $\n",
    "$ \\newcommand{\\mybigpar}[1]{ \\Big( #1 \\Big)} $\n",
    "$ \\newcommand{\\sqrttwo}{\\frac{1}{\\sqrt{2}}} $\n",
    "$ \\newcommand{\\dsqrttwo}{\\dfrac{1}{\\sqrt{2}}} $\n",
    "$ \\newcommand{\\onehalf}{\\frac{1}{2}} $\n",
    "$ \\newcommand{\\donehalf}{\\dfrac{1}{2}} $\n",
    "$ \\newcommand{\\hadamard}{ \\mymatrix{rr}{ \\sqrttwo & \\sqrttwo \\\\ \\sqrttwo & -\\sqrttwo }} $\n",
    "$ \\newcommand{\\vzero}{\\myvector{1\\\\0}} $\n",
    "$ \\newcommand{\\vone}{\\myvector{0\\\\1}} $\n",
    "$ \\newcommand{\\vhadamardzero}{\\myvector{ \\sqrttwo \\\\  \\sqrttwo } } $\n",
    "$ \\newcommand{\\vhadamardone}{ \\myrvector{ \\sqrttwo \\\\ -\\sqrttwo } } $\n",
    "$ \\newcommand{\\myarray}[2]{ \\begin{array}{#1}#2\\end{array}} $\n",
    "$ \\newcommand{\\X}{ \\mymatrix{cc}{0 & 1 \\\\ 1 & 0}  } $\n",
    "$ \\newcommand{\\Z}{ \\mymatrix{rr}{1 & 0 \\\\ 0 & -1}  } $\n",
    "$ \\newcommand{\\Htwo}{ \\mymatrix{rrrr}{ \\frac{1}{2} & \\frac{1}{2} & \\frac{1}{2} & \\frac{1}{2} \\\\ \\frac{1}{2} & -\\frac{1}{2} & \\frac{1}{2} & -\\frac{1}{2} \\\\ \\frac{1}{2} & \\frac{1}{2} & -\\frac{1}{2} & -\\frac{1}{2} \\\\ \\frac{1}{2} & -\\frac{1}{2} & -\\frac{1}{2} & \\frac{1}{2} } } $\n",
    "$ \\newcommand{\\CNOT}{ \\mymatrix{cccc}{1 & 0 & 0 & 0 \\\\ 0 & 1 & 0 & 0 \\\\ 0 & 0 & 0 & 1 \\\\ 0 & 0 & 1 & 0} } $\n",
    "$ \\newcommand{\\norm}[1]{ \\left\\lVert #1 \\right\\rVert } $"
   ]
  },
  {
   "cell_type": "markdown",
   "metadata": {},
   "source": [
    "<h2> Probabilistic States </h2>"
   ]
  },
  {
   "cell_type": "markdown",
   "metadata": {},
   "source": [
    "Suppose that we have a system with 4 distinguishable states: $ s_1 $, $s_2 $, $s_3$, and $s_4$.  \n",
    "\n",
    "We expect the system to be in one of them at any moment. \n",
    "\n",
    "By using the language of probability, we can also say that the system is in one of the states with probability 1, and in any other state with probabilty 0. \n",
    "\n",
    "Then, by using our column representation, we can show each state as a column vector (by using the vectors in standard basis of $ \\mathbb{R}^4 $):\n",
    "\n",
    "$$\n",
    "    e_1 = \\myvector{1\\\\ 0 \\\\ 0 \\\\ 0}, e_2 = \\myvector{0 \\\\ 1 \\\\ 0 \\\\ 0}, e_3 = \\myvector{0 \\\\ 0 \\\\ 1 \\\\ 0}, \n",
    "    \\mbox{ and } e_4 = \\myvector{0 \\\\ 0 \\\\ 0 \\\\ 1}.\n",
    "$$"
   ]
  },
  {
   "cell_type": "markdown",
   "metadata": {},
   "source": [
    "This representation helps us to represent our knowledge on a system when it is in more than one state with certain probabilities. \n",
    "\n",
    "Remember the case in which the coins are tossed secretly. \n",
    "\n",
    "For example, suppose that the system is in state $ s_1 $, $ s_2 $, $ s_3 $, and $ s_4 $ with probabilities $ 0.20 $, $ 0.25 $, $ 0.40 $, and $ 0.15 $, respectively. \n",
    "\n",
    "(<i>The total probability should be 1, i.e., $ 0.20+0.25+0.40+0.15 = 1.00 $</i>)\n",
    "\n",
    "Then, we can say that the system is in the following probabilistic state:\n",
    "\n",
    "$$ 0.20 \\cdot e_1 + 0.25 \\cdot e2 + 0.40 \\cdot e_3 + 0.15 \\cdot e4 $$\n",
    "\n",
    "$$ =  0.20 \\cdot \\myvector{1\\\\ 0 \\\\ 0 \\\\ 0} + 0.25 \\cdot \\myvector{0\\\\ 1 \\\\ 0 \\\\ 0} + 0.40 \\cdot \\myvector{0\\\\ 0 \\\\ 1 \\\\ 0} + 0.15 \\cdot  \\myvector{0\\\\ 0 \\\\ 0 \\\\ 1}  \n",
    "$$\n",
    "\n",
    "$$ = \\myvector{0.20\\\\ 0 \\\\ 0 \\\\ 0} +   \\myvector{0\\\\ 0.25 \\\\ 0 \\\\ 0} +  \\myvector{0\\\\ 0 \\\\0.40 \\\\ 0} +  \\myvector{0\\\\ 0 \\\\ 0 \\\\ 0.15 } = \\myvector{ 0.20 \\\\ 0.25 \\\\ 0.40 \\\\ 0.15 }, $$\n",
    "\n",
    "where the summation of entries must be 1."
   ]
  },
  {
   "cell_type": "markdown",
   "metadata": {},
   "source": [
    "<h3> Probabilistic state </h3>\n",
    "\n",
    "A probabilistic state is a linear combination of the vectors in the standard basis. \n",
    "    \n",
    "Here coefficients (scalars) must satisfy certain properties:\n",
    "<ol>\n",
    "    <li> Each coefficient is non-negative </li>\n",
    "    <li> The summation of the coefficients is 1 </li>\n",
    "</ol>\n",
    "\n",
    "\n",
    "Alternatively, we can say that a probabilistic state is a probability distribution over deterministic states.\n",
    "\n",
    "We can show all information as a single mathematical object, which is called as a   <font color=\"blue\"> stochastic </font> vector.\n",
    "\n",
    "<i> Remark that the state of any linear system is a linear combination of the vectors in the picked basis. </i> "
   ]
  },
  {
   "cell_type": "markdown",
   "metadata": {},
   "source": [
    "<h3> Task 1 </h3>\n",
    "\n",
    "Go to following website: http://www.shodor.org/interactivate/activities/AdjustableSpinner/\n",
    "\n",
    "Use the tool to create a 4 dimensional probabilistic state with probabilities $ 0.20 $, $ 0.25 $, $ 0.40 $, and $ 0.15 $."
   ]
  },
  {
   "cell_type": "markdown",
   "metadata": {},
   "source": [
    "<h3> Task 2  </h3>\n",
    "\n",
    "Play with the tool and create random probabilistic states. Try to express the corresponding vector of your probabilistic state."
   ]
  }
 ],
 "metadata": {
  "kernelspec": {
   "display_name": "Python 3",
   "language": "python",
   "name": "python3"
  },
  "language_info": {
   "codemirror_mode": {
    "name": "ipython",
    "version": 3
   },
   "file_extension": ".py",
   "mimetype": "text/x-python",
   "name": "python",
   "nbconvert_exporter": "python",
   "pygments_lexer": "ipython3",
   "version": "3.7.3"
  }
 },
 "nbformat": 4,
 "nbformat_minor": 2
}
