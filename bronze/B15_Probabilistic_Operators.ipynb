{
 "cells": [
  {
   "cell_type": "markdown",
   "metadata": {},
   "source": [
    "<table>\n",
    "    <tr><td align=\"right\" style=\"background-color:#ffffff;\">\n",
    "        <img src=\"../images/logo.jpg\" width=\"20%\" align=\"right\">\n",
    "    </td></tr>\n",
    "    <tr><td align=\"right\" style=\"color:#777777;background-color:#ffffff;font-size:12px;\">\n",
    "        Prepared by Abuzer Yakaryilmaz<br>\n",
    "        Özlem Salehi | December 1, 2019 (updated)\n",
    "    </td></tr>\n",
    "    <tr><td align=\"right\" style=\"color:#bbbbbb;background-color:#ffffff;font-size:11px;font-style:italic;\">\n",
    "        This cell contains some macros. If there is a problem with displaying mathematical formulas, please run this cell to load these macros.\n",
    "    </td></tr>\n",
    "</table>\n",
    "$ \\newcommand{\\bra}[1]{\\langle #1|} $\n",
    "$ \\newcommand{\\ket}[1]{|#1\\rangle} $\n",
    "$ \\newcommand{\\braket}[2]{\\langle #1|#2\\rangle} $\n",
    "$ \\newcommand{\\dot}[2]{ #1 \\cdot #2} $\n",
    "$ \\newcommand{\\biginner}[2]{\\left\\langle #1,#2\\right\\rangle} $\n",
    "$ \\newcommand{\\mymatrix}[2]{\\left( \\begin{array}{#1} #2\\end{array} \\right)} $\n",
    "$ \\newcommand{\\myvector}[1]{\\mymatrix{c}{#1}} $\n",
    "$ \\newcommand{\\myrvector}[1]{\\mymatrix{r}{#1}} $\n",
    "$ \\newcommand{\\mypar}[1]{\\left( #1 \\right)} $\n",
    "$ \\newcommand{\\mybigpar}[1]{ \\Big( #1 \\Big)} $\n",
    "$ \\newcommand{\\sqrttwo}{\\frac{1}{\\sqrt{2}}} $\n",
    "$ \\newcommand{\\dsqrttwo}{\\dfrac{1}{\\sqrt{2}}} $\n",
    "$ \\newcommand{\\onehalf}{\\frac{1}{2}} $\n",
    "$ \\newcommand{\\donehalf}{\\dfrac{1}{2}} $\n",
    "$ \\newcommand{\\hadamard}{ \\mymatrix{rr}{ \\sqrttwo & \\sqrttwo \\\\ \\sqrttwo & -\\sqrttwo }} $\n",
    "$ \\newcommand{\\vzero}{\\myvector{1\\\\0}} $\n",
    "$ \\newcommand{\\vone}{\\myvector{0\\\\1}} $\n",
    "$ \\newcommand{\\vhadamardzero}{\\myvector{ \\sqrttwo \\\\  \\sqrttwo } } $\n",
    "$ \\newcommand{\\vhadamardone}{ \\myrvector{ \\sqrttwo \\\\ -\\sqrttwo } } $\n",
    "$ \\newcommand{\\myarray}[2]{ \\begin{array}{#1}#2\\end{array}} $\n",
    "$ \\newcommand{\\X}{ \\mymatrix{cc}{0 & 1 \\\\ 1 & 0}  } $\n",
    "$ \\newcommand{\\Z}{ \\mymatrix{rr}{1 & 0 \\\\ 0 & -1}  } $\n",
    "$ \\newcommand{\\Htwo}{ \\mymatrix{rrrr}{ \\frac{1}{2} & \\frac{1}{2} & \\frac{1}{2} & \\frac{1}{2} \\\\ \\frac{1}{2} & -\\frac{1}{2} & \\frac{1}{2} & -\\frac{1}{2} \\\\ \\frac{1}{2} & \\frac{1}{2} & -\\frac{1}{2} & -\\frac{1}{2} \\\\ \\frac{1}{2} & -\\frac{1}{2} & -\\frac{1}{2} & \\frac{1}{2} } } $\n",
    "$ \\newcommand{\\CNOT}{ \\mymatrix{cccc}{1 & 0 & 0 & 0 \\\\ 0 & 1 & 0 & 0 \\\\ 0 & 0 & 0 & 1 \\\\ 0 & 0 & 1 & 0} } $\n",
    "$ \\newcommand{\\norm}[1]{ \\left\\lVert #1 \\right\\rVert } $"
   ]
  },
  {
   "cell_type": "markdown",
   "metadata": {},
   "source": [
    "<h2> Probabilistic Operators</h2>\n",
    "\n",
    "Remember Asja's biased coins, and her coin-flipping protocol.\n",
    "\n",
    "$\n",
    "GameCoins = \\begin{array}{c|cc} & \\mathbf{Head} & \\mathbf{Tail} \\\\ \\hline \\mathbf{Head} & 0.6 & 0.3\\\\  \\mathbf{Tail} & 0.4 & 0.7  \\end{array} \\equiv \\begin{array}{c|cc} & \\mathbf{0} & \\mathbf{1} \\\\ \\hline \\mathbf{0} & 0.6 & 0.3 \\\\  \\mathbf{1} & 0.4 & 0.7  \\end{array}\n",
    "$"
   ]
  },
  {
   "cell_type": "markdown",
   "metadata": {},
   "source": [
    "Let's trace Asja's outcomes after two coin flips.\n",
    "\n",
    "<b> At the beginning: </b>\n",
    "\n",
    "<i> Remember the protocol:\n",
    "<ul> \n",
    "    <li> At the beginning, the coin is faced heads up and she starts with flipping one euro; </li>\n",
    "    <li> If she gets a head, she flips one euro; </li>\n",
    "    <li> If she gets a tail, she flips one cent. </li>\n",
    "    \n",
    "</ul>\n",
    "</i>\n",
    "\n",
    "She starts in state 0: $ v_0 = \\myvector{1 \\\\ 0} $.\n",
    "\n",
    "State 0 represents Head and state 1 represents Tail."
   ]
  },
  {
   "cell_type": "markdown",
   "metadata": {},
   "source": [
    "<b>After first coin flip:</b>\n",
    "\n",
    "$  \\mypar{ \n",
    "        GameCoins = \\begin{array}{c|cc} & \\mathbf{Head} & \\mathbf{Tail} \\\\ \\hline \\mathbf{Head} & 0.6 & 0.3\\\\  \\mathbf{Tail} & 0.4 & 0.7  \\end{array}\n",
    "        }\n",
    "    \\mypar{\n",
    "        CurrentState=\\myvector{1 \\\\ 0}\n",
    "    } $\n",
    "    \n",
    "Each entry of the new vector is calculated by a row and current state:\n",
    "\n",
    "$\n",
    "\\myvector{  0.6 \\cdot 1 \\\\ + \\\\ 0.3 \\cdot 0 \\\\ \\hline 0.4 \\cdot 1 \\\\ + \\\\ 0.7 \\cdot 0  }\n",
    "=\n",
    "\\myvector{ 0.6 + 0 \\\\ 0.4 + 0 }\n",
    "=\n",
    "\\myvector{0.6 \\\\ 0.4}.\n",
    "$"
   ]
  },
  {
   "cell_type": "markdown",
   "metadata": {},
   "source": [
    "<b>After second coin flip:</b>\n",
    "\n",
    "$  \\mypar{ \n",
    "        GameCoins = \\begin{array}{c|cc} & \\mathbf{Head} & \\mathbf{Tail} \\\\ \\hline \\mathbf{Head} & 0.6 & 0.3\\\\  \\mathbf{Tail} & 0.4 & 0.7  \\end{array}\n",
    "        }\n",
    "    \\mypar{\n",
    "        CurrentState=\\myvector{0.6 \\\\ 0.4}\n",
    "    } $\n",
    "    \n",
    "Each entry of the new vector is calculated by a row and current state:\n",
    "\n",
    "$\n",
    "\\myvector{  0.6 \\cdot 0.6 \\\\ + \\\\ 0.3 \\cdot 0.4 \\\\ \\hline 0.4 \\cdot 0.6 \\\\ + \\\\ 0.7 \\cdot 0.4  }\n",
    "=\n",
    "\\myvector{ 0.36 + 0.12 \\\\ 0.24 + 0.28 }\n",
    "=\n",
    "\\myvector{0.48 \\\\ 0.52}.\n",
    "$"
   ]
  },
  {
   "cell_type": "markdown",
   "metadata": {},
   "source": [
    "<b>Coin-flipping protocol</b> of Asja is a <i>probabilistic operator</i>.\n",
    "\n",
    "Similarly to any operator, depending on the current state, Asja's coin-flipping protocol determines the next state.\n",
    "\n",
    "$$\n",
    "    \\myvector{1 \\\\ 0} \\xrightarrow{\\mbox{Asja's coin-flipping protocol}} \\myvector{0.6 \\\\ 0.4}\n",
    "    \\xrightarrow{\\mbox{Asja's coin-flipping protocol}}  \\myvector{0.48 \\\\ 0.52}.\n",
    "$$"
   ]
  },
  {
   "cell_type": "markdown",
   "metadata": {},
   "source": [
    "<font color=\"blue\"><b>A probabilistic operator evolves the system from a probabilistic state to a probabilistic state.</b></font>\n",
    "\n",
    "Asja's coin-flipping protocol transforms $ \\myvector{ 0.8 \\\\ 0.2 } $ to $ \\myvector{ 0.54 \\\\ 0.46 } $.\n",
    "\n",
    "When calculating the new state, we use the table $  GameCoins = \\begin{array}{c|cc} & \\mathbf{Head} & \\mathbf{Tail} \\\\ \\hline \\mathbf{Head} & 0.6 & 0.3\\\\  \\mathbf{Tail} & 0.4 & 0.7  \\end{array} $ and the current state $ \\myvector{ 0.8 \\\\ 0.2 } $:\n",
    "\n",
    "$$\n",
    "    \\myvector{ \\myarray{c}{0.6 \\cdot 0.8 \\\\ + \\\\ 0.3 \\cdot 0.2} \\\\ \\hline \\myarray{c}{0.4 \\cdot 0.8 \\\\ + \\\\ 0.7 \\cdot 0.2} } = \\myvector{ \\myarray{c}{0.48 + 0.06} \\\\ \\myarray{c}{0.32 + 0.14}  } = \\myvector{ 0.54 \\\\ 0.46 }.\n",
    "$$"
   ]
  },
  {
   "cell_type": "markdown",
   "metadata": {},
   "source": [
    "<h3> Probabilistic operator </h3>\n",
    "\n",
    "A probabilistic operator can be represented as a square table or matrix.\n",
    "\n",
    "The entries of a probabilistic operator represent the transition probabilities between the states.\n",
    "\n",
    "Therefore, <b>each entry is nonnegative.</b>\n",
    "\n",
    "Each column represent the transition probabilities from a state to all states. Therefore, <b>the summation of all entries in each column is 1</b>, i.e., probability 1 is distributed to all states. \n",
    "\n",
    "Any matrix satisfying these two properties is called a <font color =\"blue\"> stochastic matrix</font>.\n",
    "\n",
    "A probabilistic operator is a stochastic matrix, and vice versa.\n",
    "\n",
    "<i> Remark that the operator of any linear system is reprented as a matrix. </i>"
   ]
  },
  {
   "cell_type": "markdown",
   "metadata": {},
   "source": [
    "<h3> Probabilistic evolution </h3>\n",
    "\n",
    "A probabilistic state is a stochastic vector,  say $ v $.\n",
    "\n",
    "A probabilistic operator is stochastic matrix, say $ A $,\n",
    "\n",
    "If probabilistic operator $ A $ is applied to probabilistic state $ v $, the new state, say $v'$, is calculated as \n",
    "\n",
    "$$  v' = A \\cdot v. $$\n",
    "\n",
    "<i> Remark that the evolution of linear system is represented by matrix-vector multiplication. </i>"
   ]
  },
  {
   "cell_type": "markdown",
   "metadata": {},
   "source": [
    "If we represent $ GameCoins $ as a matrix: $ \\mymatrix{cc}{ 0.6 & 0.3 \\\\ 0.4 & 0.7 } $, then the new probabilistic state is calculated as\n",
    "\n",
    "$$\n",
    "    \\myvector{ 0.54 \\\\ 0.46 } = \\mymatrix{cc}{ 0.6 & 0.3 \\\\ 0.4 & 0.7 } \\myvector{ 0.8 \\\\ 0.2 }.\n",
    "$$"
   ]
  },
  {
   "cell_type": "markdown",
   "metadata": {},
   "source": [
    "<h3> Task 1 </h3>\n",
    "\n",
    "The operator $ GameCoins = \\mymatrix{cc}{ 0.6 & 0.3 \\\\ 0.4 & 0.7 } $ is applied to the probabilistic state $ \\myvector{ 0.1 \\\\ 0.9 } $. \n",
    "\n",
    "Then, the new probabilistic state is\n",
    "\n",
    "$$ \\mymatrix{cc}{ 0.6 & 0.3 \\\\ 0.4 & 0.7 } \\myvector{ 0.1 \\\\ 0.9 } = \\myvector{ 0.33 \\\\ 0.67 } $$.\n",
    "\n",
    "Please verify the correctness of matrix-vector multiplication."
   ]
  },
  {
   "cell_type": "markdown",
   "metadata": {},
   "source": [
    "<h3> Task 2 </h3>\n",
    "\n",
    "We are given the following probabilistic operator: $ B =  \\mymatrix{ccc}{ 0.4 & 0.6 & 0 \\\\ 0.2 & 0.1 & 0.7 \\\\ 0.4 & 0.3 & 0.3 } $.\n",
    "\n",
    "What is the transition probability from the second state to third state?\n",
    "\n",
    "What is the transition probability from the third state to first state?\n",
    "\n",
    "What is the transition probability from the first state to second state?"
   ]
  },
  {
   "cell_type": "markdown",
   "metadata": {},
   "source": [
    "<h3> Task 3 </h3>\n",
    "\n",
    "What is the new probabilistic state if the operator $ B =  \\mymatrix{ccc}{ 0.4 & 0.6 & 0 \\\\ 0.2 & 0.1 & 0.7 \\\\ 0.4 & 0.3 & 0.3 } $ is applied to the state $ \\myvector{ 0.1 \\\\ 0.3 \\\\ 0.6 } $.\n",
    "\n",
    "You can find the result by using matrix-vector multiplication or using numpy.\n",
    "\n",
    "<i> The new probabilistic state should be $ \\myvector{0.22 \\\\ 0.47 \\\\ 0.31} $. </i>"
   ]
  },
  {
   "cell_type": "code",
   "execution_count": null,
   "metadata": {},
   "outputs": [],
   "source": [
    "\n",
    "#\n",
    "# your solution is here\n",
    "#"
   ]
  },
  {
   "cell_type": "markdown",
   "metadata": {},
   "source": [
    "<a href=\"B15_Probabilistic_Operators_Solutions.ipynb#task3\">click for our solution</a>"
   ]
  }
 ],
 "metadata": {
  "kernelspec": {
   "display_name": "Python 3",
   "language": "python",
   "name": "python3"
  },
  "language_info": {
   "codemirror_mode": {
    "name": "ipython",
    "version": 3
   },
   "file_extension": ".py",
   "mimetype": "text/x-python",
   "name": "python",
   "nbconvert_exporter": "python",
   "pygments_lexer": "ipython3",
   "version": "3.7.3"
  }
 },
 "nbformat": 4,
 "nbformat_minor": 2
}
