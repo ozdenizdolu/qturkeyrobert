{
 "cells": [
  {
   "cell_type": "markdown",
   "metadata": {},
   "source": [
    "<table>\n",
    "    <tr><td align=\"right\" style=\"background-color:#ffffff;\">\n",
    "        <img src=\"../images/logo.jpg\" width=\"20%\" align=\"right\">\n",
    "    </td></tr>\n",
    "    <tr><td align=\"right\" style=\"color:#777777;background-color:#ffffff;font-size:12px;\">\n",
    "        Abuzer Yakaryilmaz (prepared)<br>\n",
    "        Özlem Salehi | August 23, 2019 (updated)\n",
    "    </td></tr>\n",
    "    <tr><td align=\"right\" style=\"color:#bbbbbb;background-color:#ffffff;font-size:11px;font-style:italic;\">\n",
    "        This cell contains some macros. If there is a problem with displaying mathematical formulas, please run this cell to load these macros.\n",
    "    </td></tr>\n",
    "</table>\n",
    "$ \\newcommand{\\bra}[1]{\\langle #1|} $\n",
    "$ \\newcommand{\\ket}[1]{|#1\\rangle} $\n",
    "$ \\newcommand{\\braket}[2]{\\langle #1|#2\\rangle} $\n",
    "$ \\newcommand{\\dot}[2]{ #1 \\cdot #2} $\n",
    "$ \\newcommand{\\biginner}[2]{\\left\\langle #1,#2\\right\\rangle} $\n",
    "$ \\newcommand{\\mymatrix}[2]{\\left( \\begin{array}{#1} #2\\end{array} \\right)} $\n",
    "$ \\newcommand{\\myvector}[1]{\\mymatrix{c}{#1}} $\n",
    "$ \\newcommand{\\myrvector}[1]{\\mymatrix{r}{#1}} $\n",
    "$ \\newcommand{\\mypar}[1]{\\left( #1 \\right)} $\n",
    "$ \\newcommand{\\mybigpar}[1]{ \\Big( #1 \\Big)} $\n",
    "$ \\newcommand{\\sqrttwo}{\\frac{1}{\\sqrt{2}}} $\n",
    "$ \\newcommand{\\dsqrttwo}{\\dfrac{1}{\\sqrt{2}}} $\n",
    "$ \\newcommand{\\onehalf}{\\frac{1}{2}} $\n",
    "$ \\newcommand{\\donehalf}{\\dfrac{1}{2}} $\n",
    "$ \\newcommand{\\hadamard}{ \\mymatrix{rr}{ \\sqrttwo & \\sqrttwo \\\\ \\sqrttwo & -\\sqrttwo }} $\n",
    "$ \\newcommand{\\vzero}{\\myvector{1\\\\0}} $\n",
    "$ \\newcommand{\\vone}{\\myvector{0\\\\1}} $\n",
    "$ \\newcommand{\\vhadamardzero}{\\myvector{ \\sqrttwo \\\\  \\sqrttwo } } $\n",
    "$ \\newcommand{\\vhadamardone}{ \\myrvector{ \\sqrttwo \\\\ -\\sqrttwo } } $\n",
    "$ \\newcommand{\\myarray}[2]{ \\begin{array}{#1}#2\\end{array}} $\n",
    "$ \\newcommand{\\X}{ \\mymatrix{cc}{0 & 1 \\\\ 1 & 0}  } $\n",
    "$ \\newcommand{\\Z}{ \\mymatrix{rr}{1 & 0 \\\\ 0 & -1}  } $\n",
    "$ \\newcommand{\\Htwo}{ \\mymatrix{rrrr}{ \\frac{1}{2} & \\frac{1}{2} & \\frac{1}{2} & \\frac{1}{2} \\\\ \\frac{1}{2} & -\\frac{1}{2} & \\frac{1}{2} & -\\frac{1}{2} \\\\ \\frac{1}{2} & \\frac{1}{2} & -\\frac{1}{2} & -\\frac{1}{2} \\\\ \\frac{1}{2} & -\\frac{1}{2} & -\\frac{1}{2} & \\frac{1}{2} } } $\n",
    "$ \\newcommand{\\CNOT}{ \\mymatrix{cccc}{1 & 0 & 0 & 0 \\\\ 0 & 1 & 0 & 0 \\\\ 0 & 0 & 0 & 1 \\\\ 0 & 0 & 1 & 0} } $\n",
    "$ \\newcommand{\\norm}[1]{ \\left\\lVert #1 \\right\\rVert } $\n",
    "$ \\newcommand{\\pstate}[1]{ \\lceil \\mspace{-1mu} #1 \\mspace{-1.5mu} \\rfloor } $"
   ]
  },
  {
   "cell_type": "markdown",
   "metadata": {},
   "source": [
    "<h2> <font color=\"blue\"> Solutions for </font>Two Probabilistic Bits</h2>"
   ]
  },
  {
   "cell_type": "markdown",
   "metadata": {},
   "source": [
    "<a id=\"task2\"></a>\n",
    "<h3> Task 2 </h3>\n",
    "\n",
    "Find the vector representations of $ \\pstate{00} $, $ \\pstate{01} $, $\\pstate{10}$, and $ \\pstate{11} $.\n",
    "\n",
    "<i>The vector representation of $ \\pstate{ab} $ is $ \\pstate{a} \\otimes \\pstate{b} $ for $ a,b \\in \\{0,1\\} $.</i>"
   ]
  },
  {
   "cell_type": "markdown",
   "metadata": {},
   "source": [
    "<h3>Solution</h3>\n",
    "\n",
    "$ \\pstate{00} = \\pstate{0} \\otimes \\pstate{0} = \\myvector{1 \\\\ 0} \\otimes \\myvector{1 \\\\ 0} =  \\myvector{1 \\myvector{1 \\\\ 0} \\\\ 0 \\myvector{1 \\\\ 0} }  = \\myvector{1 \\\\ 0 \\\\ 0 \\\\ 0} $.\n",
    "\n",
    "$ \\pstate{01} = \\pstate{0} \\otimes \\pstate{1} = \\myvector{1 \\\\ 0} \\otimes \\myvector{0 \\\\ 1} = \\myvector{1 \\myvector{0 \\\\ 1} \\\\ 0 \\myvector{0 \\\\ 1} }  = \\myvector{0 \\\\ 1 \\\\ 0 \\\\ 0} $.\n",
    "\n",
    "$ \\pstate{10} = \\pstate{1} \\otimes \\pstate{0} = \\myvector{0 \\\\ 1} \\otimes \\myvector{1 \\\\ 0} = \\myvector{0 \\myvector{1 \\\\ 0} \\\\ 1 \\myvector{1 \\\\ 0} }  = \\myvector{0 \\\\ 0 \\\\ 1 \\\\ 0} $.\n",
    "\n",
    "$ \\pstate{11} = \\pstate{1} \\otimes \\pstate{1} = \\myvector{0 \\\\ 1} \\otimes \\myvector{0 \\\\ 1} = \\myvector{0 \\myvector{0 \\\\ 1} \\\\ 1 \\myvector{0 \\\\ 1} }  = \\myvector{0 \\\\ 0 \\\\ 0 \\\\ 1} $."
   ]
  },
  {
   "cell_type": "markdown",
   "metadata": {},
   "source": [
    "<a id=\"task3\"></a>\n",
    "<h3> Task 3 </h3>\n",
    "\n",
    "Find the probabilistic state of the composite system $ \\big( 0.2 \\pstate{0} + 0.8 \\pstate{1} \\big) \\otimes  \\big( 0.6 \\pstate{0} + 0.4 \\pstate{1} \\big) $.\n"
   ]
  },
  {
   "cell_type": "markdown",
   "metadata": {},
   "source": [
    "<h3>Solution</h3>\n",
    "\n",
    "The probabilistic state of the composite system is \n",
    "\n",
    "$$ \\big( 0.2 \\pstate{0} + 0.8 \\pstate{1} \\big) \\otimes  \\big( 0.6 \\pstate{0} + 0.4 \\pstate{1} \\big) =   $$\n",
    "\n",
    "$$ 0.12 \\big( \\pstate{0} \\otimes \\pstate{0} \\big) + 0.08 \\big( \\pstate{0} \\otimes \\pstate{1} \\big) + 0.48 \\big( \\pstate{1} \\otimes \\pstate{0} \\big) + 0.32 \\big( \\pstate{1} \\otimes \\pstate{1} \\big) = $$\n",
    "\n",
    "$$ 0.12 \\pstate{00} + 0.08 \\pstate{01} + 0.48 \\pstate{10} + 0.32 \\pstate{11}. $$"
   ]
  },
  {
   "cell_type": "markdown",
   "metadata": {},
   "source": [
    "<a id=\"tas43\"></a>\n",
    "<h3> Task 4 </h3>\n",
    "\n",
    "Find the probabilistic state of the composite system by calculating this tensor product $ \\myvector{0.2 \\\\ 0.8} \\otimes \\myvector{0.6 \\\\ 0.4 } $."
   ]
  },
  {
   "cell_type": "markdown",
   "metadata": {},
   "source": [
    "<h3>Solution</h3>\n",
    "\n",
    " $ \\myvector{0.2 \\\\ 0.8} \\otimes \\myvector{0.6 \\\\ 0.4 } = \\myvector{ 0.2 \\myvector{0.6 \\\\ 0.4} \\\\ 0.8 \\myvector{0.6 \\\\ 0.4}  } = \\myvector{0.12 \\\\ 0.08 \\\\ 0.48 \\\\ 0.32} $."
   ]
  },
  {
   "cell_type": "markdown",
   "metadata": {},
   "source": [
    "<a id=\"task9\"></a>\n",
    "<h3> Task 9 </h3>\n",
    "\n",
    "A challenging task.\n",
    "\n",
    "Freivalds reads 50 random strings of length 40. \n",
    "\n",
    "Find the final probabilistic state for each string.\n",
    "\n",
    "Is there any relation between \n",
    "<ul>\n",
    "    <li>the numbers of $ a $'s and $ b $'s, say $ N_a $ and $ N_b $, and </li>\n",
    "    <li>the probabilities of the first bit being in zero and one, say $ p_0 $ and $ p_1 $?</li>\n",
    "</ul>\n",
    "More specifically:\n",
    "<ul>\n",
    "    <li> When $ N_a > N_b $, is $ p_0 < p_1 $ or $ p_0 > p_1 $? </li>\n",
    "    <li> When $ N_a < N_b $, is $ p_0 < p_1 $ or $ p_0 > p_1 $? </li>\n",
    "</ul>\n",
    "\n",
    "Or simply check the signs of $ (N_a - N_b) $ and $ (p_0-p_1) $ for each string.\n",
    "\n",
    "<i>Hint: The multiplication of two numbers with the same signs is a positive number, and the multiplication of two numbers with the opposite signs gives a negative number.</i>"
   ]
  },
  {
   "cell_type": "markdown",
   "metadata": {},
   "source": [
    "<h3>Solution</h3>"
   ]
  },
  {
   "cell_type": "code",
   "execution_count": null,
   "metadata": {},
   "outputs": [],
   "source": [
    "# for random number generation\n",
    "from random import randrange\n",
    "\n",
    "# we will use evolve function\n",
    "def evolve(Op,state):\n",
    "    newstate=[]\n",
    "    for i in range(len(Op)): # for each row\n",
    "        newstate.append(0)\n",
    "        for j in range(len(state)): # for each element in state\n",
    "            newstate[i] = newstate[i] + Op[i][j] * state[j] # summation of pairwise multiplications\n",
    "    return newstate # return the new probabilistic state\n",
    "\n",
    "# the initial state\n",
    "state = [0.5, 0, 0.5, 0]\n",
    "\n",
    "# probabilistic operator for symbol a\n",
    "A = [\n",
    "    [0.5,  0, 0, 0],\n",
    "    [0.25, 1, 0, 0],\n",
    "    [0,    0, 1, 0],\n",
    "    [0.25, 0, 0, 1]\n",
    "]\n",
    "\n",
    "# probabilistic operator for symbol b\n",
    "B = [\n",
    "    [1, 0, 0,    0],\n",
    "    [0, 1, 0.25, 0],\n",
    "    [0, 0, 0.5,  0],\n",
    "    [0, 0, 0.25, 1]\n",
    "]\n",
    "\n",
    "#\n",
    "# your solution is here\n",
    "#\n",
    "\n",
    "length = 40\n",
    "total = 50\n",
    "# total = 1000 # we will also test our code for 1000 strings\n",
    "\n",
    "# we will check 5 cases\n",
    "# let's use a list \n",
    "cases = [0,0,0,0,0]\n",
    "\n",
    "for i in range(total): # total number of strings\n",
    "    Na = 0\n",
    "    Nb = 0\n",
    "    string = \"\"\n",
    "    state = [0.5, 0, 0.5, 0]\n",
    "    for j in range(length): # generate random string\n",
    "        if randrange(2) == 0: \n",
    "            Na = Na + 1 # new symbol is a\n",
    "            string = string + \"a\"\n",
    "            state = evolve(A,state) # update the probabilistic state by A\n",
    "        else:\n",
    "            Nb = Nb + 1 # new symbol is b\n",
    "            string = string + \"b\"\n",
    "            state = evolve(B,state) # update the probabilistic state by B\n",
    "    # now we have the final state\n",
    "    p0 = state[0] + state[1] # the probabilities of being in 00 and 01\n",
    "    p1 = state[2] + state[3] # the probabilities of being in 10 and 11\n",
    "    print() # print an empty line\n",
    "    print(\"(Na-Nb) is\",Na-Nb,\"and\",\"(p0-p1) is\",p0-p1)\n",
    "    # let's check possible different cases\n",
    "    \n",
    "    # start with the case in which both are nonzero\n",
    "    # then their multiplication is nonzero\n",
    "    # let's check the sign of their multiplication\n",
    "    if (Na-Nb) * (p0-p1) < 0: \n",
    "        print(\"they have opposite sign\")\n",
    "        cases[0] = cases[0] + 1\n",
    "    elif (Na-Nb) * (p0-p1) > 0: \n",
    "        print(\"they have the same sign\")\n",
    "        cases[1] = cases[1] + 1\n",
    "        \n",
    "    #  one of them should be zero\n",
    "    elif (Na-Nb) == 0:\n",
    "        if (p0-p1) == 0: \n",
    "            print(\"both are zero\")\n",
    "            cases[2] = cases[2] + 1\n",
    "        else: \n",
    "            print(\"(Na-Nb) is zero, but (p0-p1) is nonzero\")\n",
    "            cases[3] = cases[3] + 1\n",
    "    elif (p0-p1) == 0: \n",
    "        print(\"(Na-Nb) is nonzero, while (p0-p1) is zero\")\n",
    "        cases[4] = cases[4] + 1\n",
    "        \n",
    "# check the case(s) that are observed and the case(s) that are not observed\n",
    "print() # print an empty line\n",
    "print(cases)        "
   ]
  },
  {
   "cell_type": "markdown",
   "metadata": {},
   "source": [
    "<b> Interpretation </b>\n",
    "\n",
    "There are five different cases about $ (N_a-N_b) $ and $ (p_0-p_1) $:\n",
    "<ul>\n",
    "    <li> $ cases[0] $: they have opposite sign </li>\n",
    "    <li> $ cases[1] $: they have the same sign </li>\n",
    "    <li> $ cases[2] $: both are zero </li>\n",
    "    <li> $ cases[3] $: $ (N_a-N_b) $ is zero, but $ (p_0-p_1) $ is nonzero </li>\n",
    "    <li> $ cases[4] $: $ (N_a-N_b) $ is nonzero, while $ (p_0-p_1) $ is zero </li>\n",
    "</ul>"
   ]
  },
  {
   "cell_type": "markdown",
   "metadata": {},
   "source": [
    "<b>However</b>, we observed only two cases: $ cases[0] $ and $ cases[2] $.\n",
    "\n",
    "(1) If the numbers of $ a $'s and $ b $'s are the same, then the probability of observing $ 0 $ in the first bit (i.e., $\\mathbf{0}0$ or $\\mathbf{0}1$) and the probability of observing 1 in the first bit  (i.e., $\\mathbf{1}0$ or $\\mathbf{1}1$) are the same.\n",
    "\n",
    "$$\n",
    "    N_a = N_b \\longleftrightarrow p_0 = p_1.\n",
    "$$\n",
    "\n",
    "(2) If the numbers of $ a $'s and $ b $'s are not the same, then we have only $ (N_a - N_b) \\cdot (p_0-p_1) < 0 $.\n",
    "\n",
    "(2.a) If the number of $ a $'s is greater than the number of $ b $'s, then the probability of observing $ 0 $ in the first bit (i.e., $\\mathbf{0}0$ or $\\mathbf{0}1$) is less than the probability of observing 1 in the first bit (i.e., $\\mathbf{1}0$ or $\\mathbf{1}1$).\n",
    "\n",
    "$$\n",
    "    N_a > N_b \\longrightarrow p_0 < p_1.\n",
    "$$\n",
    "\n",
    "(2.b) If the number of $ a $'s is less than the number of $ b $'s, then the probability of observing $ 0 $ in the first bit (i.e., $\\mathbf{0}0$ or $\\mathbf{0}1$) is greater than the probability of observing 1 in the first bit (i.e., $\\mathbf{1}0$ or $\\mathbf{1}1$).\n",
    "\n",
    "$$\n",
    "    N_a < N_b \\longrightarrow p_0 > p_1.\n",
    "$$"
   ]
  },
  {
   "cell_type": "markdown",
   "metadata": {},
   "source": [
    "<hr>\n",
    "If we have more $ a $'s, we expect to observe $ 10 $ and $ 11 $ more than $ 00 $ and $ 01 $.\n",
    "\n",
    "If we have more $ b $'s, we expect to observe $ 00 $ and $ 01 $ more than $ 10 $ and $ 11 $.\n",
    "\n",
    "If we have equal numbers of $a$'s and $b$'s, we expect to observe $ 0 $ and $ 1 $ in the first bit equally often."
   ]
  },
  {
   "cell_type": "code",
   "execution_count": null,
   "metadata": {},
   "outputs": [],
   "source": []
  }
 ],
 "metadata": {
  "kernelspec": {
   "display_name": "Python 3",
   "language": "python",
   "name": "python3"
  },
  "language_info": {
   "codemirror_mode": {
    "name": "ipython",
    "version": 3
   },
   "file_extension": ".py",
   "mimetype": "text/x-python",
   "name": "python",
   "nbconvert_exporter": "python",
   "pygments_lexer": "ipython3",
   "version": "3.7.3"
  }
 },
 "nbformat": 4,
 "nbformat_minor": 2
}
