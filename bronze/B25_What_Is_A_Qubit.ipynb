{
 "cells": [
  {
   "cell_type": "markdown",
   "metadata": {},
   "source": [
    "<table>\n",
    "    <tr><td align=\"right\" style=\"background-color:#ffffff;\">\n",
    "        <img src=\"../images/logot.png\" width=\"25%\" align=\"right\">\n",
    "    </td></tr>\n",
    "    <tr><td align=\"right\" style=\"color:#777777;background-color:#ffffff;font-size:12px;\">\n",
    "        prepared by Onurcan Bektaş<br>\n",
    "            Özlem Salehi | August 27, 2019 (updated)\n",
    "    </td></tr>\n",
    "    <tr><td align=\"right\" style=\"color:#bbbbbb;background-color:#ffffff;font-size:11px;font-style:italic;\">\n",
    "        This cell contains some macros. If there is a problem with displaying mathematical formulas, please run this cell to load these macros.\n",
    "    </td></tr>\n",
    "</table>\n",
    "$ \\newcommand{\\bra}[1]{\\langle #1|} $\n",
    "$ \\newcommand{\\ket}[1]{|#1\\rangle} $\n",
    "$ \\newcommand{\\braket}[2]{\\langle #1|#2\\rangle} $\n",
    "$ \\newcommand{\\dot}[2]{ #1 \\cdot #2} $\n",
    "$ \\newcommand{\\biginner}[2]{\\left\\langle #1,#2\\right\\rangle} $\n",
    "$ \\newcommand{\\mymatrix}[2]{\\left( \\begin{array}{#1} #2\\end{array} \\right)} $\n",
    "$ \\newcommand{\\myvector}[1]{\\mymatrix{c}{#1}} $\n",
    "$ \\newcommand{\\myrvector}[1]{\\mymatrix{r}{#1}} $\n",
    "$ \\newcommand{\\mypar}[1]{\\left( #1 \\right)} $\n",
    "$ \\newcommand{\\mybigpar}[1]{ \\Big( #1 \\Big)} $\n",
    "$ \\newcommand{\\sqrttwo}{\\frac{1}{\\sqrt{2}}} $\n",
    "$ \\newcommand{\\dsqrttwo}{\\dfrac{1}{\\sqrt{2}}} $\n",
    "$ \\newcommand{\\onehalf}{\\frac{1}{2}} $\n",
    "$ \\newcommand{\\donehalf}{\\dfrac{1}{2}} $\n",
    "$ \\newcommand{\\hadamard}{ \\mymatrix{rr}{ \\sqrttwo & \\sqrttwo \\\\ \\sqrttwo & -\\sqrttwo }} $\n",
    "$ \\newcommand{\\vzero}{\\myvector{1\\\\0}} $\n",
    "$ \\newcommand{\\vone}{\\myvector{0\\\\1}} $\n",
    "$ \\newcommand{\\vhadamardzero}{\\myvector{ \\sqrttwo \\\\  \\sqrttwo } } $\n",
    "$ \\newcommand{\\vhadamardone}{ \\myrvector{ \\sqrttwo \\\\ -\\sqrttwo } } $\n",
    "$ \\newcommand{\\myarray}[2]{ \\begin{array}{#1}#2\\end{array}} $\n",
    "$ \\newcommand{\\X}{ \\mymatrix{cc}{0 & 1 \\\\ 1 & 0}  } $\n",
    "$ \\newcommand{\\Z}{ \\mymatrix{rr}{1 & 0 \\\\ 0 & -1}  } $\n",
    "$ \\newcommand{\\Htwo}{ \\mymatrix{rrrr}{ \\frac{1}{2} & \\frac{1}{2} & \\frac{1}{2} & \\frac{1}{2} \\\\ \\frac{1}{2} & -\\frac{1}{2} & \\frac{1}{2} & -\\frac{1}{2} \\\\ \\frac{1}{2} & \\frac{1}{2} & -\\frac{1}{2} & -\\frac{1}{2} \\\\ \\frac{1}{2} & -\\frac{1}{2} & -\\frac{1}{2} & \\frac{1}{2} } } $\n",
    "$ \\newcommand{\\CNOT}{ \\mymatrix{cccc}{1 & 0 & 0 & 0 \\\\ 0 & 1 & 0 & 0 \\\\ 0 & 0 & 0 & 1 \\\\ 0 & 0 & 1 & 0} } $\n",
    "$ \\newcommand{\\norm}[1]{ \\left\\lVert #1 \\right\\rVert } $"
   ]
  },
  {
   "cell_type": "markdown",
   "metadata": {},
   "source": [
    "<h1>What is a qubit?</h1>"
   ]
  },
  {
   "cell_type": "markdown",
   "metadata": {},
   "source": [
    "Recall our discussion about bits. We can use any physical object that has distinct two states such as our hands. \n",
    "\n",
    "<a href=\"B03_What_Is_A_Bit.ipynb\">What is a bit?</a>"
   ]
  },
  {
   "cell_type": "markdown",
   "metadata": {},
   "source": [
    "Without any prior reason, let us use electrons instead of our hands (since there are more of the former than the latter), and use its spin value as our binary data. \n",
    "\n",
    "To determine the state (the value) of our bit (our electron), we will measure the spin of the electron: if it is UP, we will decode (or understand) it as 1, and if it is DOWN, we will decode it as 0 (the choice is again arbitrary).\n",
    "\n",
    "[Start of Digression] <b> Wait a minute, Isn't what is UP and what is DOWN also arbitrary ?</b> In fact, it is; that is \n",
    "why before agreeing on whether UP(or DOWN) will mean 1 or 0, you have to agree on what is UP(or DOWN).[End of Digression]\n",
    "\n",
    "Well, funny thing about the spin of an electron is that when you don't measure it (i.e don't disturb it), the spin (value) itself is instead of being either strictly UP or strictly DOWN, it is a \"superposition\" of being UP and DOWN at the same time. \n",
    "\n",
    "\n",
    "You might be asking <b> what the heck is a superposition?</b> \n",
    "\n",
    "Well, before answering that, let me give you an analogy to set the stage, and ask you </b>\"which direction are you looking at?\" At any given time, you can either face north, or west (let us forget south and east, since this is basically what the rest of the whole world is doing too) or north-west, or any other direction between. So, your answer (with high probability) would be some direction between north and west. \n",
    "\n",
    "In the language of mathematics, you could express your direction at any given moment as a linear combination of two vectors, one which faces north and the other which faces west. So, your \"direction vector\" (i.e the vector which points in the direction that you are facing) would have components both in the direction north and the west. In that sense, the direction you are facing is not strictly either north or west, but a combination of both. The \"superposition\" is almost like this; (turning back to our orijinal example), at any given moment, the spin of our electron is not strictly UP or DOWN, but a combination of both.\n",
    "\n",
    "Without digressing, it is usefull to note that, the above anology between superpositon of a spin being UP and DOWN, and facing toward a direction between NORTH and WEST is quite close that we use the same Mathematical tools (i.e Linear Algebra, and in particular vectors) to describe both situations."
   ]
  },
  {
   "cell_type": "markdown",
   "metadata": {},
   "source": [
    "<img src=\"../images/bitvsqubit.png\" width=\"50%\" align=\"center\">"
   ]
  }
 ],
 "metadata": {
  "kernelspec": {
   "display_name": "Python 3",
   "language": "python",
   "name": "python3"
  },
  "language_info": {
   "codemirror_mode": {
    "name": "ipython",
    "version": 3
   },
   "file_extension": ".py",
   "mimetype": "text/x-python",
   "name": "python",
   "nbconvert_exporter": "python",
   "pygments_lexer": "ipython3",
   "version": "3.7.3"
  }
 },
 "nbformat": 4,
 "nbformat_minor": 2
}
