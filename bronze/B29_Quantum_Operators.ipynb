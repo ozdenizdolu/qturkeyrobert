{
 "cells": [
  {
   "cell_type": "markdown",
   "metadata": {},
   "source": [
    "<table>\n",
    "    <tr><td align=\"right\" style=\"background-color:#ffffff;\">\n",
    "        <img src=\"../images/logo.jpg\" width=\"20%\" align=\"right\">\n",
    "    </td></tr>\n",
    "    <tr><td align=\"right\" style=\"color:#777777;background-color:#ffffff;font-size:12px;\">\n",
    "        Updated by Abuzer Yakaryilmaz<br>\n",
    "        Özlem Salehi | July 07, 2019 (updated)\n",
    "    </td></tr>\n",
    "    <tr><td align=\"right\" style=\"color:#bbbbbb;background-color:#ffffff;font-size:11px;font-style:italic;\">\n",
    "        This cell contains some macros. If there is a problem with displaying mathematical formulas, please run this cell to load these macros.\n",
    "    </td></tr>\n",
    "</table>\n",
    "$ \\newcommand{\\bra}[1]{\\langle #1|} $\n",
    "$ \\newcommand{\\ket}[1]{|#1\\rangle} $\n",
    "$ \\newcommand{\\braket}[2]{\\langle #1|#2\\rangle} $\n",
    "$ \\newcommand{\\dot}[2]{ #1 \\cdot #2} $\n",
    "$ \\newcommand{\\biginner}[2]{\\left\\langle #1,#2\\right\\rangle} $\n",
    "$ \\newcommand{\\mymatrix}[2]{\\left( \\begin{array}{#1} #2\\end{array} \\right)} $\n",
    "$ \\newcommand{\\myvector}[1]{\\mymatrix{c}{#1}} $\n",
    "$ \\newcommand{\\myrvector}[1]{\\mymatrix{r}{#1}} $\n",
    "$ \\newcommand{\\mypar}[1]{\\left( #1 \\right)} $\n",
    "$ \\newcommand{\\mybigpar}[1]{ \\Big( #1 \\Big)} $\n",
    "$ \\newcommand{\\sqrttwo}{\\frac{1}{\\sqrt{2}}} $\n",
    "$ \\newcommand{\\dsqrttwo}{\\dfrac{1}{\\sqrt{2}}} $\n",
    "$ \\newcommand{\\onehalf}{\\frac{1}{2}} $\n",
    "$ \\newcommand{\\donehalf}{\\dfrac{1}{2}} $\n",
    "$ \\newcommand{\\hadamard}{ \\mymatrix{rr}{ \\sqrttwo & \\sqrttwo \\\\ \\sqrttwo & -\\sqrttwo }} $\n",
    "$ \\newcommand{\\vzero}{\\myvector{1\\\\0}} $\n",
    "$ \\newcommand{\\vone}{\\myvector{0\\\\1}} $\n",
    "$ \\newcommand{\\vhadamardzero}{\\myvector{ \\sqrttwo \\\\  \\sqrttwo } } $\n",
    "$ \\newcommand{\\vhadamardone}{ \\myrvector{ \\sqrttwo \\\\ -\\sqrttwo } } $\n",
    "$ \\newcommand{\\myarray}[2]{ \\begin{array}{#1}#2\\end{array}} $\n",
    "$ \\newcommand{\\X}{ \\mymatrix{cc}{0 & 1 \\\\ 1 & 0}  } $\n",
    "$ \\newcommand{\\Z}{ \\mymatrix{rr}{1 & 0 \\\\ 0 & -1}  } $\n",
    "$ \\newcommand{\\Htwo}{ \\mymatrix{rrrr}{ \\frac{1}{2} & \\frac{1}{2} & \\frac{1}{2} & \\frac{1}{2} \\\\ \\frac{1}{2} & -\\frac{1}{2} & \\frac{1}{2} & -\\frac{1}{2} \\\\ \\frac{1}{2} & \\frac{1}{2} & -\\frac{1}{2} & -\\frac{1}{2} \\\\ \\frac{1}{2} & -\\frac{1}{2} & -\\frac{1}{2} & \\frac{1}{2} } } $\n",
    "$ \\newcommand{\\CNOT}{ \\mymatrix{cccc}{1 & 0 & 0 & 0 \\\\ 0 & 1 & 0 & 0 \\\\ 0 & 0 & 0 & 1 \\\\ 0 & 0 & 1 & 0} } $\n",
    "$ \\newcommand{\\norm}[1]{ \\left\\lVert #1 \\right\\rVert } $"
   ]
  },
  {
   "cell_type": "markdown",
   "metadata": {},
   "source": [
    "<h2> Quantum Operators </h2>"
   ]
  },
  {
   "cell_type": "markdown",
   "metadata": {},
   "source": [
    "Once the quantum state is defined, the definition of quantum operator is very easy.\n",
    "\n",
    "<font color=\"blue\"><b>Any length preserving (square) matrix is a quantum operator, and vice versa.</b></font>\n",
    "\n",
    "Such matrices are called <font color=\"blue\">unitary</font> when they are allowed to have complex entries and  <font color=\"blue\">orthonormal</font> when they are restricted to have real entries. \n",
    "    \n",
    "So if $A$ is such a matrix and $v$ is any vector, $||Av||=||v||$.\n",
    "\n",
    "If $v$ represents a quantum state, then $||v||=1$ and application of a quantum operator results in another quantum state $v'$ with $||v'||=1$.  \n",
    "\n",
    "Unlike the classical operators, all quantum operators are <font color=\"blue\">reversible</font>."
   ]
  },
  {
   "cell_type": "markdown",
   "metadata": {},
   "source": [
    "<h3>Probabilistic vs Quantum </h3>\n",
    "\n",
    "<table align=\"left\" >\n",
    "  <tr align=\"left\" style=\"background-color:#ffffff;\">\n",
    "      <th> </th> \n",
    "    <th align=\"center\"> Probabilistic       </th>\n",
    "    <th>Quantum</th> \n",
    "  </tr>\n",
    "\n",
    "  <tr>\n",
    "    <td> <b>Vector representation </b>\n",
    "    <td> $\\myvector{a\\\\b}$ $a+b=1$, $a,b \\geq 0$</td>\n",
    "    <td> $\\myvector{\\alpha \\\\ \\beta}$ $\\alpha^2+\\beta^2=1$, $\\alpha, \\beta \\in [-1,1]$  </td> \n",
    "  </tr>\n",
    "    <tr  style=\"background-color:#ffffff;\">\n",
    "    <td > <b> </b>\n",
    "    <td> Stochastic vector </td>\n",
    "    <td> Unit vector</td> \n",
    "  </tr>\n",
    "   <tr  style=\"background-color:#ffffff;\">\n",
    "    <td > <b>Operator  </b> </td>\n",
    "    <td> Stochastic </td>\n",
    "    <td> Unitary</td> \n",
    "  </tr>\n",
    "    <tr style=\"background-color:#ffffff;\">\n",
    "        <td> <b>Visual representation  </b> </td>\n",
    "        <td> <img src=\"../images/probabilistic.png\" width=\"70%\" align=\"center\"> </td>\n",
    "        <td> <img src=\"../images/quantum.png\" width=\"70%\" align=\"center\">  </td>\n",
    "    </tr>\n",
    "    \n",
    "</table>\n",
    "\n"
   ]
  },
  {
   "cell_type": "markdown",
   "metadata": {},
   "source": [
    "<h3> IDENTITY operator </h3>"
   ]
  },
  {
   "cell_type": "markdown",
   "metadata": {},
   "source": [
    "IDENTITY operator does not change the state of a qubit. \n",
    "    \n",
    " $ I = \\mymatrix{rr}{1 & 0 \\\\0 & 1}$   \n",
    " \n",
    " (We use capital letter for the matrix form of the operators)"
   ]
  },
  {
   "cell_type": "markdown",
   "metadata": {},
   "source": [
    "<h3> NOT operator </h3>\n",
    "\n",
    "NOT operator flips the value of a qubit.\n",
    "\n",
    "$ X = \\X$"
   ]
  },
  {
   "cell_type": "markdown",
   "metadata": {},
   "source": [
    "<div style=\"background-color:#f8f8f8;color:#555555;font-size:13px;\">\n",
    "<b><i>A technical note: Why is operator NOT referred as x-gate?<i></b>\n",
    "\n",
    "Recall the Bloch Sphere. \n",
    "\n",
    "In three dimensions, we have axes: x, y, and z. \n",
    "\n",
    "X refers to the rotation with respect to x-axis.\n",
    "\n",
    "Similarly, we have the rotation with respect to y-axis and z-axis.\n",
    "\n",
    "In Bronze, we will also see the operator Z (z-gate).\n",
    "\n",
    "The operator Y is defined with complex numbers.\n",
    "</div>"
   ]
  },
  {
   "cell_type": "markdown",
   "metadata": {},
   "source": [
    "The action of $ X $ on the qubit:\n",
    "\n",
    "$ X \\ket{0} = \\ket{1} $. \n",
    "\n",
    "More explicitly, $ X \\ket{0} = \\X \\vzero = \\vone = \\ket{1} $.\n",
    "\n",
    "Similarly, $ X \\ket{1} = \\ket{0} $.\n",
    "\n",
    "More explicitly, $ X \\ket{1} = \\X \\vone = \\vzero = \\ket{0} $."
   ]
  },
  {
   "cell_type": "markdown",
   "metadata": {},
   "source": [
    "\n",
    "\n",
    "<h3> Our first quantum circuit </h3>\n",
    "\n",
    "Having defined quantum operators, now we are ready to write our first quantum circuit.\n",
    "\n",
    "For our quantum programs, we will design quantum circuits.\n",
    "\n",
    "As a warm-up example, here we design a circuit with a single quantum bit.\n",
    "\n",
    "We also highlight the details on designing quantum circuits along with our codes."
   ]
  },
  {
   "cell_type": "code",
   "execution_count": null,
   "metadata": {},
   "outputs": [],
   "source": [
    "# \n",
    "# A quantum circuit is composed by quantum and classical bits.\n",
    "#\n",
    "\n",
    "# here are the objects that we use to create a quantum circuit in qiskit\n",
    "from qiskit import QuantumRegister, ClassicalRegister, QuantumCircuit\n",
    "\n",
    "# we use a quantum register to keep our quantum bits.\n",
    "qreg =  QuantumRegister(1) # in this example we will use a single quantum bit\n",
    "\n",
    "# To get an information from a quantum bit, it must be measured. (More details will appear.)\n",
    "#     The measurement result is stored classically.\n",
    "#     Therefore, we also use a classical regiser with classical bit(s)\n",
    "creg = ClassicalRegister(1) # in this example we will use a single classical bit\n",
    "\n",
    "# now we can define our quantum circuit\n",
    "# it is composed by a quantum and a classical registers\n",
    "mycircuit1 = QuantumCircuit(qreg,creg)\n",
    "\n",
    "# we apply operators on quantum bits\n",
    "# operators are called as gates\n",
    "# we apply NOT operator represented as \"x\" in qiskit\n",
    "# operator is a part of the circuit, and we should specify the quantum bit as its parameter\n",
    "mycircuit1.x(qreg[0]) # (quantum) bits are enumerated starting from 0\n",
    "# NOT operator or x-gate is applied to the first qubit of the quantum register\n",
    "\n",
    "# we run our codes until now, and then draw our circuit\n",
    "print(\"Everything looks fine, let's continue ...\")"
   ]
  },
  {
   "cell_type": "code",
   "execution_count": null,
   "metadata": {},
   "outputs": [],
   "source": [
    "# in qiskit, the circuit object has a method called \"draw\"\n",
    "# the default drawing method uses ASCII art\n",
    "\n",
    "# let's draw our circuit now \n",
    "mycircuit1.draw()\n",
    "\n",
    "# re-execute this cell if you DO NOT see the circuit diagram"
   ]
  },
  {
   "cell_type": "markdown",
   "metadata": {},
   "source": [
    "<b>Congratulations!</b> if you see your diagram :-)"
   ]
  },
  {
   "cell_type": "markdown",
   "metadata": {},
   "source": [
    "<i><u> Remark</u></i>: Qiskit has its own counters to enumerate the objects ($ q2_0 $, $ c2_0 $, etc.). \n",
    "<ul>\n",
    "    <li> They might be useful for debugging, but currently you can simply discard this part.\n",
    "    <li> You may also notice that when you re-run the same codes, the object numbers will be increased.\n",
    "</ul>\n"
   ]
  },
  {
   "cell_type": "markdown",
   "metadata": {},
   "source": [
    "You may also use matplotlib to draw your circuits."
   ]
  },
  {
   "cell_type": "code",
   "execution_count": null,
   "metadata": {},
   "outputs": [],
   "source": [
    "mycircuit1.draw(output='mpl')"
   ]
  },
  {
   "cell_type": "markdown",
   "metadata": {},
   "source": [
    "\n",
    "Initially, the value of the quantum bit is 0 or the quantum bit is in state 0. \n",
    "\n",
    "Initially, the value of the classical bit is also 0 or the classical bit is in state 0. \n",
    "\n",
    "Each quantum bit is represented as a single straight line. Each classical bit is represented as a double straight line. You may think of them as wires.\n",
    "\n",
    "The x-gate is shown as a square.\n",
    "\n",
    "The state of the quantum bit is expected to be $ \\ket{1} $ after the operator.\n",
    "\n",
    "Let's measure the first qubit (define a mesurement operator), and then execute our circuit and see the result."
   ]
  },
  {
   "cell_type": "code",
   "execution_count": null,
   "metadata": {},
   "outputs": [],
   "source": [
    "# measurement is defined by associating a quantum bit to a classical bit\n",
    "mycircuit1.measure(qreg,creg)\n",
    "# the result will be stored in the classical bit\n",
    "\n",
    "print(\"Everything looks fine, let's continue ...\")"
   ]
  },
  {
   "cell_type": "code",
   "execution_count": null,
   "metadata": {},
   "outputs": [],
   "source": [
    "# let's draw the circuit again to see how the measurement is defined\n",
    "# we use drawing method \"matplotlib\" this time\n",
    "\n",
    "mycircuit1.draw(output='mpl')\n",
    "# reexecute this cell if you DO NOT see the circuit diagram"
   ]
  },
  {
   "cell_type": "code",
   "execution_count": null,
   "metadata": {},
   "outputs": [],
   "source": [
    "# we are done with designing of our circuit\n",
    "# now we can execute it\n",
    "# we usually execute quantum circuits many times (WHY?)\n",
    "\n",
    "# we use the method \"execute\" and the object \"Aer\" from qiskit library\n",
    "from qiskit import execute, Aer\n",
    "\n",
    "# we create a job object for execution of the circuit\n",
    "# there are three parameters\n",
    "#     1. mycircuit\n",
    "#     2. beckend on which it will be executed: we will use local simulator\n",
    "#     3. how many times it will be executed, let's pick it as 1024\n",
    "job = execute(mycircuit1,Aer.get_backend('qasm_simulator'),shots=1024)\n",
    "\n",
    "# we can get the result of the outcome as follows\n",
    "counts = job.result().get_counts(mycircuit1)\n",
    "print(counts) # counts is a dictionary"
   ]
  },
  {
   "cell_type": "markdown",
   "metadata": {},
   "source": [
    "We expect to see 1 in each execution, and so the output should be $ \\{\\mbox{'1'}:~1024\\} $. \n",
    "\n",
    "That is, the outcome 1 is measured 1024 times.\n",
    "\n",
    "<i>The output is composed by pairs, and each pair showes (i) the measurement outcome and (ii) its frequency.</i> \n",
    "\n",
    "<i>For example, if the output is $ \\{\\mbox{'0': 500, '1': 524}\\} $, then we know that the outcome 0 is measured 500 times and the outcome 1 is measured 524 times. </i>\n",
    "\n",
    "<b><i> Quantum programs usually give probabilistic outcomes. \n",
    "    \n",
    "Therefore, we should execute them many times to get more reliable outcomes. </b></i> "
   ]
  },
  {
   "cell_type": "markdown",
   "metadata": {},
   "source": [
    "<h3> Open Quantum Assembly Language </h3>\n",
    "\n",
    "We can print qasm (Open Quantum Assembly Language) code of our circuit.\n",
    "\n",
    "On the simulators or real quantum computers, qasm codes are executed."
   ]
  },
  {
   "cell_type": "code",
   "execution_count": null,
   "metadata": {},
   "outputs": [],
   "source": [
    "#print qasm code of our program\n",
    "\n",
    "print(mycircuit1.qasm())"
   ]
  },
  {
   "cell_type": "markdown",
   "metadata": {},
   "source": [
    "<h3> Z-gate (operator) </h3>\n",
    "\n",
    "The indentity operator $ I = \\mymatrix{cc}{1 & 0 \\\\ 0 & 1} $ does not affect the computation.\n",
    "\n",
    "What about the following operator?\n",
    "\n",
    "$ Z = \\Z $.\n",
    "\n",
    "It is very similar to the identity operator."
   ]
  },
  {
   "cell_type": "markdown",
   "metadata": {},
   "source": [
    "The action of $ Z $ on the qubit:\n",
    "\n",
    "$ Z \\ket{0} = \\ket{0} $. \n",
    "\n",
    "More explicitly, $ Z \\ket{0} = \\Z \\vzero =  \\myvector{1 \\\\ 0} = \\ket{0} $.\n",
    "\n",
    " $ Z \\ket{1} = -\\ket{1} $.\n",
    "\n",
    "More explicitly, $ Z \\ket{1} = \\Z \\vone = \\myvector{0 \\\\ -1}  = -\\ket{1} $."
   ]
  },
  {
   "cell_type": "markdown",
   "metadata": {},
   "source": [
    "Consider the quantum state $ \\ket{u} = \\myvector{ \\frac{3}{5} \\\\ \\frac{4}{5} }  $. Let's calculate the new quantum state after applying $ Z $ to $ \\ket{u} $:\n",
    "\n",
    "$ \\ket{u'} = Z \\ket{u} =  \\Z  \\myvector{ \\frac{3}{5} \\\\ \\frac{4}{5} } =  \\myrvector{ \\frac{3}{5} \\\\ -\\frac{4}{5} } $.\n",
    "\n",
    "The quantum states $ \\ket{u} $ and $ \\ket{u'} $ look similar. \n",
    "\n",
    "The probabilities of observing state $\\ket{0}$ and state $\\ket{1}$ are the same when the system is in $ \\ket{u} $ or $ \\ket{u'} $.\n",
    "\n",
    "On the other hand, they are far away from each other as shown below: \n",
    "\n",
    "<img src=\"../images/Z_u.jpg\" width = \"40%\">"
   ]
  },
  {
   "cell_type": "markdown",
   "metadata": {},
   "source": [
    "<h3> Our second quantum circuit </h3>\n",
    "\n",
    "Let's create a circuit with a single qubit, first apply the \n",
    "x-gate and then the z-gate. "
   ]
  },
  {
   "cell_type": "code",
   "execution_count": null,
   "metadata": {},
   "outputs": [],
   "source": [
    "# \n",
    "# A quantum circuit is composed by quantum and classical bits.\n",
    "#\n",
    "\n",
    "# here are the objects that we use to create a quantum circuit in qiskit\n",
    "from qiskit import QuantumRegister, ClassicalRegister, QuantumCircuit\n",
    "\n",
    "# we use a quantum register to keep our quantum bits.\n",
    "# we may also give a name to our register\n",
    "qreg =  QuantumRegister(1) # in this example we willuse a single quantum bit\n",
    "\n",
    "# To get an information from a quantum bit, it must be measured. (More details will appear.)\n",
    "#     The measurement result is stored classically.\n",
    "#     Therefore, we also use a classical regiser with classical bit(s)\n",
    "creg = ClassicalRegister(1,name='c') # in this example we will use a single classical bit\n",
    "\n",
    "# now we can define our quantum circuit\n",
    "# it is composed by a quantum and a classical registers\n",
    "mycircuit2 = QuantumCircuit(qreg,creg)\n",
    "\n",
    "# we apply operators on quantum bits\n",
    "# operators are called as gates\n",
    "# we apply NOT operator represented as \"x\" in qiskit\n",
    "# operator is a part of the circuit, and we should specify the quantum bit as its parameter\n",
    "mycircuit2.x(qreg[0]) # (quantum) bits are enumerated starting from 0\n",
    "# NOT operator or x-gate is applied to the first qubit of the quantum register\n",
    "\n",
    "mycircuit2.z(qreg[0])\n",
    "# z-gate is applied to the first qubit of the quantum register\n",
    "\n",
    "# we run our codes until now, and then draw our circuit\n",
    "print(\"Everything looks fine, let's continue ...\")"
   ]
  },
  {
   "cell_type": "code",
   "execution_count": null,
   "metadata": {},
   "outputs": [],
   "source": [
    "# let's draw our circuit now \n",
    "mycircuit2.draw()\n",
    "\n",
    "# re-execute this cell if you DO NOT see the circuit diagram"
   ]
  },
  {
   "cell_type": "markdown",
   "metadata": {},
   "source": [
    "Initially, the value of the quantum bit is 0 or the quantum bit is in state $\\ket{0}$. \n",
    "\n",
    "Initially, the value of the classical bit is also 0 or the classical bit is in state 0. \n",
    "\n",
    "The state of the quantum bit is expected to be $ \\ket{1} $ after the X operator and $- \\ket{1}$ after the Z operator.\n",
    "\n",
    "\n",
    "Let's measure the first qubit (define a mesurement operator), and then execute our circuit and see the result."
   ]
  },
  {
   "cell_type": "code",
   "execution_count": null,
   "metadata": {},
   "outputs": [],
   "source": [
    "# measurement is defined by associating a quantum bit to a classical bit\n",
    "mycircuit2.measure(qreg[0],creg[0])\n",
    "# the result will be stored in the classical bit\n",
    "\n",
    "\n",
    "# let's draw the circuit again to see how the measurement is defined\n",
    "# we use drawing method \"matplotlib\"\n",
    "\n",
    "mycircuit2.draw(output='mpl')\n",
    "# reexecute me if you DO NOT see the circuit diagram"
   ]
  },
  {
   "cell_type": "code",
   "execution_count": null,
   "metadata": {},
   "outputs": [],
   "source": [
    "# we are done with designing of our circuit\n",
    "# now we can execute it\n",
    "# we execute quantum circuits many times (WHY?)\n",
    "\n",
    "# we use the method \"execute\" and the object \"Aer\" from qiskit library\n",
    "from qiskit import execute, Aer\n",
    "\n",
    "# we create a job object for execution of the circuit\n",
    "# there are three parameters\n",
    "#     1. mycircuit\n",
    "#     2. beckend on which it will be executed: we will use local simulator\n",
    "#     3. how many times it will be executed, let's pick it as 1024\n",
    "job = execute(mycircuit2,Aer.get_backend('qasm_simulator'),shots=1024)\n",
    "\n",
    "# we can get the result of the outcome as follows\n",
    "counts = job.result().get_counts(mycircuit2)\n",
    "print(counts) # counts is a dictionary"
   ]
  },
  {
   "cell_type": "markdown",
   "metadata": {},
   "source": [
    "We expect to see 1 in each execution since the amplitude of state $\\ket{1}$ is -1 and the probability of observing $\\ket{1}$ is therefore 1.\n",
    "\n",
    "So the output should be  {'1': 1024} .\n",
    "\n",
    "That is, the outcome 1 is measured 1024 times.\n",
    "\n"
   ]
  },
  {
   "cell_type": "markdown",
   "metadata": {},
   "source": [
    "<h3> Hadamard operator</h3>\n",
    "\n",
    "Hadamard operator ($ H $ or h-gate) looks like a fair coin-flipping.\n",
    "\n",
    "$\n",
    "    H = \\hadamard.\n",
    "$\n",
    "\n",
    "But, there are certain dissimilarities:\n",
    "<ul>\n",
    "    <li> we have a <u>negative entry</u>, and</li>\n",
    "    <li> instead of $ \\frac{1}{2} $, we have <u>its square root</u> $ \\mypar{ \\frac{1}{\\sqrt{2}} } $. </li>\n",
    "</ul>\n",
    "\n",
    "Quantum systems can have negative transitions. Can probabilistic system be extended with negative values? "
   ]
  },
  {
   "cell_type": "markdown",
   "metadata": {},
   "source": [
    "<h4> One-step Hadamard</h4>\n",
    "\n",
    "Let's start in $ \\ket{0} $.\n",
    "\n",
    "After applying $ H $:\n",
    "\n",
    "$$\n",
    "  H \\ket{0} =  \\hadamard \\vzero =  \\vhadamardzero.\n",
    "$$\n",
    "\n",
    "After measurement, we observe the states $ \\ket{0} $ and $ \\ket{1} $ with equal probability $ \\frac{1}{2} $. \n"
   ]
  },
  {
   "cell_type": "markdown",
   "metadata": {},
   "source": [
    "<img src=\"../images/photon3a.jpg\" width=\"45%\">"
   ]
  },
  {
   "cell_type": "markdown",
   "metadata": {},
   "source": [
    "Let's start in $ \\ket{1} $.\n",
    "\n",
    "After applying $ H $:\n",
    "\n",
    "$$\n",
    "    H \\ket{1} = \\hadamard \\vone = \\vhadamardone.\n",
    "$$\n",
    "\n",
    "After measurement, we observe the states $ \\ket{0} $ and $ \\ket{1} $ with equal probability $ \\frac{1}{2} $. \n",
    "\n",
    "We obtain the same values even when one of the values is negative. "
   ]
  },
  {
   "cell_type": "markdown",
   "metadata": {},
   "source": [
    "<img src=\"../images/photon3c.jpg\" width=\"35%\">"
   ]
  },
  {
   "cell_type": "markdown",
   "metadata": {},
   "source": [
    "In the above example, the amplitudes of states $\\ket{0}$ and $ \\ket{1} $ are respectively $ \\sqrttwo $ and $ -\\sqrttwo $.\n",
    "\n",
    "The probabilities of observing them after a measurement are $ \\onehalf $."
   ]
  }
 ],
 "metadata": {
  "kernelspec": {
   "display_name": "Python 3",
   "language": "python",
   "name": "python3"
  },
  "language_info": {
   "codemirror_mode": {
    "name": "ipython",
    "version": 3
   },
   "file_extension": ".py",
   "mimetype": "text/x-python",
   "name": "python",
   "nbconvert_exporter": "python",
   "pygments_lexer": "ipython3",
   "version": "3.7.3"
  }
 },
 "nbformat": 4,
 "nbformat_minor": 2
}
