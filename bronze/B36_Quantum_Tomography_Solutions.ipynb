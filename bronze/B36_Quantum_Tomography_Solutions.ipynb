{
 "cells": [
  {
   "cell_type": "markdown",
   "metadata": {},
   "source": [
    "<table>\n",
    "    <tr><td align=\"right\" style=\"background-color:#ffffff;\">\n",
    "        <img src=\"../images/logo.jpg\" width=\"20%\" align=\"right\">\n",
    "    </td></tr>\n",
    "    <tr><td align=\"right\" style=\"color:#777777;background-color:#ffffff;font-size:12px;\">\n",
    "        Prepared by Abuzer Yakaryilmaz<br>\n",
    "        Özlem Salehi | September 15, 2019 (updated)\n",
    "    </td></tr>\n",
    "    <tr><td align=\"right\" style=\"color:#bbbbbb;background-color:#ffffff;font-size:11px;font-style:italic;\">\n",
    "        This cell contains some macros. If there is a problem with displaying mathematical formulas, please run this cell to load these macros.\n",
    "    </td></tr>\n",
    "</table>\n",
    "$ \\newcommand{\\bra}[1]{\\langle #1|} $\n",
    "$ \\newcommand{\\ket}[1]{|#1\\rangle} $\n",
    "$ \\newcommand{\\braket}[2]{\\langle #1|#2\\rangle} $\n",
    "$ \\newcommand{\\dot}[2]{ #1 \\cdot #2} $\n",
    "$ \\newcommand{\\biginner}[2]{\\left\\langle #1,#2\\right\\rangle} $\n",
    "$ \\newcommand{\\mymatrix}[2]{\\left( \\begin{array}{#1} #2\\end{array} \\right)} $\n",
    "$ \\newcommand{\\myvector}[1]{\\mymatrix{c}{#1}} $\n",
    "$ \\newcommand{\\myrvector}[1]{\\mymatrix{r}{#1}} $\n",
    "$ \\newcommand{\\mypar}[1]{\\left( #1 \\right)} $\n",
    "$ \\newcommand{\\mybigpar}[1]{ \\Big( #1 \\Big)} $\n",
    "$ \\newcommand{\\sqrttwo}{\\frac{1}{\\sqrt{2}}} $\n",
    "$ \\newcommand{\\dsqrttwo}{\\dfrac{1}{\\sqrt{2}}} $\n",
    "$ \\newcommand{\\onehalf}{\\frac{1}{2}} $\n",
    "$ \\newcommand{\\donehalf}{\\dfrac{1}{2}} $\n",
    "$ \\newcommand{\\hadamard}{ \\mymatrix{rr}{ \\sqrttwo & \\sqrttwo \\\\ \\sqrttwo & -\\sqrttwo }} $\n",
    "$ \\newcommand{\\vzero}{\\myvector{1\\\\0}} $\n",
    "$ \\newcommand{\\vone}{\\myvector{0\\\\1}} $\n",
    "$ \\newcommand{\\vhadamardzero}{\\myvector{ \\sqrttwo \\\\  \\sqrttwo } } $\n",
    "$ \\newcommand{\\vhadamardone}{ \\myrvector{ \\sqrttwo \\\\ -\\sqrttwo } } $\n",
    "$ \\newcommand{\\myarray}[2]{ \\begin{array}{#1}#2\\end{array}} $\n",
    "$ \\newcommand{\\X}{ \\mymatrix{cc}{0 & 1 \\\\ 1 & 0}  } $\n",
    "$ \\newcommand{\\Z}{ \\mymatrix{rr}{1 & 0 \\\\ 0 & -1}  } $\n",
    "$ \\newcommand{\\Htwo}{ \\mymatrix{rrrr}{ \\frac{1}{2} & \\frac{1}{2} & \\frac{1}{2} & \\frac{1}{2} \\\\ \\frac{1}{2} & -\\frac{1}{2} & \\frac{1}{2} & -\\frac{1}{2} \\\\ \\frac{1}{2} & \\frac{1}{2} & -\\frac{1}{2} & -\\frac{1}{2} \\\\ \\frac{1}{2} & -\\frac{1}{2} & -\\frac{1}{2} & \\frac{1}{2} } } $\n",
    "$ \\newcommand{\\CNOT}{ \\mymatrix{cccc}{1 & 0 & 0 & 0 \\\\ 0 & 1 & 0 & 0 \\\\ 0 & 0 & 0 & 1 \\\\ 0 & 0 & 1 & 0} } $\n",
    "$ \\newcommand{\\norm}[1]{ \\left\\lVert #1 \\right\\rVert } $"
   ]
  },
  {
   "cell_type": "markdown",
   "metadata": {},
   "source": [
    "<h2> <font color=\"blue\"> Solution for </font>Quantum Tomography</h2>"
   ]
  },
  {
   "cell_type": "markdown",
   "metadata": {},
   "source": [
    "<a id=\"task1\"></a>\n",
    "<h3> Task 1</h3>\n",
    "\n",
    "You are given 1000 copies of an arbitrary quantum state which lies in the first or second quadrant of the unit circle.\n",
    "\n",
    "This quantum state can be represented by an angle $ \\theta \\in [0,180) $.\n",
    "\n",
    "<i>Please execute the following cell, but do not check the value of $\\theta$.</i>"
   ]
  },
  {
   "cell_type": "code",
   "execution_count": null,
   "metadata": {},
   "outputs": [],
   "source": [
    "from random import randrange\n",
    "from math import pi\n",
    " \n",
    "theta = randrange(18001)/18000 * pi"
   ]
  },
  {
   "cell_type": "markdown",
   "metadata": {},
   "source": [
    "We assume that the quantum state is given to us with the following code.\n",
    "\n",
    "``` python\n",
    "    from qiskit import QuantumRegister, ClassicalRegister, QuantumCircuit, execute, Aer\n",
    "\n",
    "    # we define a quantum circuit with one qubit and one bit\n",
    "    qreg = QuantumRegister(1) # quantum register with a single qubit\n",
    "    creg = ClassicalRegister(1) # classical register with a single bit\n",
    "    circuit = QuantumCircuit(qreg,creg) # quantum circuit with quantum and classical registers\n",
    "\n",
    "    # rotate the qubit with rotation_angle\n",
    "    circuit.initialize([cos(theta), sin(theta)],qreg)\n",
    "```\n",
    "\n",
    "You should write further codes without using variable $theta$ again. You will implement two tasks to approximate $\\theta$.\n",
    "\n",
    "You can use 1000 shots in total when executing your quantum programs. Don't use all at once.\n",
    "\n",
    "After your guess, please check the actual value and calculate your error in percentage."
   ]
  },
  {
   "cell_type": "markdown",
   "metadata": {},
   "source": [
    "<h3> Solution </h3>"
   ]
  },
  {
   "cell_type": "markdown",
   "metadata": {},
   "source": [
    "<b>Step 1:</b>\n",
    "\n",
    "We define a measurement and execute the circuit 100 times.\n",
    "\n",
    "Then, we check the number of 1s, say $ N $.\n",
    "\n",
    "We expect $ \\sin^2(\\theta) \\approx N/100 $.\n",
    "\n",
    "In the other words, $ \\theta \\approx sin^{-1} \\mypar{ \\sqrt{ \\frac{n}{100} } } = arcsin \\mypar{ \\sqrt{ \\frac{n}{100} } }  $. "
   ]
  },
  {
   "cell_type": "code",
   "execution_count": null,
   "metadata": {},
   "outputs": [],
   "source": [
    "from qiskit import QuantumRegister, ClassicalRegister, QuantumCircuit, execute, Aer\n",
    "from math import sin, cos\n",
    "\n",
    "# we define a quantum circuit with one qubit and one bit\n",
    "qreg = QuantumRegister(1) # quantum register with a single qubit\n",
    "creg = ClassicalRegister(1) # classical register with a single bit\n",
    "circuit = QuantumCircuit(qreg,creg) # quantum circuit with quantum and classical registers\n",
    "\n",
    "# initialize the qubit with rotation_angle\n",
    "circuit.initialize([cos(theta), sin(theta)],qreg);\n"
   ]
  },
  {
   "cell_type": "code",
   "execution_count": null,
   "metadata": {},
   "outputs": [],
   "source": [
    "# import asin (inverse of sine function) and square root from math\n",
    "from math import sqrt, asin\n",
    "\n",
    "# measure the circuit and execute the program 100 times\n",
    "circuit.measure(qreg,creg)\n",
    "job = execute(circuit, Aer.get_backend('qasm_simulator'),shots=100)\n",
    "\n",
    "counts = job.result().get_counts(circuit)\n",
    "\n",
    "number_of_ones = 0\n",
    "if '1' in counts:\n",
    "    number_of_ones = counts['1']\n",
    "print(\"The number of observed ones : {}\".format(number_of_ones))\n",
    "\n",
    "\n",
    "theta1 = asin(sqrt(number_of_ones/100))\n",
    "\n",
    "print(\"Theta1 : {:.10f}\".format(theta1, theta))"
   ]
  },
  {
   "cell_type": "markdown",
   "metadata": {},
   "source": [
    "<a id=\"task2\"></a>\n",
    "<b>Step 2:</b>\n",
    "\n",
    "Remark that $ \\sin (\\theta) = \\sin(\\pi - \\theta) $. So, we have two candidates: $\\theta_1$ or $ \\theta_2 = \\pi - \\theta_1 $."
   ]
  },
  {
   "cell_type": "code",
   "execution_count": null,
   "metadata": {},
   "outputs": [],
   "source": [
    "# draw the quantum state\n",
    "\n",
    "%run qlatvia.py\n",
    "\n",
    "draw_qubit()\n",
    "\n",
    "theta2 = pi - theta1\n",
    "\n",
    "from math import cos,sin\n",
    "\n",
    "quantum_state1 = [ cos(theta1),sin(theta1) ]\n",
    "quantum_state2 = [ cos(theta2),sin(theta2) ]\n",
    "\n",
    "draw_quantum_state(quantum_state1[0],quantum_state1[1],\"|v1>\")\n",
    "draw_quantum_state(quantum_state2[0],quantum_state2[1],\"|v2>\")"
   ]
  },
  {
   "cell_type": "markdown",
   "metadata": {},
   "source": [
    "How can we distinguish them? \n",
    "\n",
    "Consider the following two cases. After initializing the qubit with $\\theta$:\n",
    "<ul>\n",
    "    <li> rotation with angle $- \\theta_1 $ and </li>\n",
    "    <li> rotation with angle $+ \\theta_1 $. </li>\n",
    "</ul>\n",
    "\n",
    "If $ \\theta_1 \\approx \\theta $, then we expect to see more 0s in the first case.\n",
    "\n",
    "If $ \\theta_2 \\approx \\theta $, then we expect to see more 0s in the second case."
   ]
  },
  {
   "cell_type": "code",
   "execution_count": null,
   "metadata": {},
   "outputs": [],
   "source": [
    "# case 1\n",
    "\n",
    "qreg1 = QuantumRegister(1) # quantum register with a single qubit\n",
    "creg1 = ClassicalRegister(1) # classical register with a single bit\n",
    "circuit1 = QuantumCircuit(qreg1,creg1) # quantum circuit with quantum and classical registers\n",
    "\n",
    "# initialize the qubit with theta\n",
    "circuit1.initialize([cos(theta), sin(theta)],qreg1);\n",
    "# rotate the qubit with -theta1\n",
    "circuit1.ry(-2*theta1,qreg1[0]) \n",
    "\n",
    "circuit1.measure(qreg1,creg1)\n",
    "\n",
    "# execute the program 1000 times\n",
    "job = execute(circuit1, Aer.get_backend('qasm_simulator'), shots=100)\n",
    "\n",
    "counts = job.result().get_counts(circuit1)\n",
    "\n",
    "case_1 = 0\n",
    "if '0' in counts:\n",
    "    case_1 = counts['0']\n",
    "print(\"the number of observed 0s in the first case is {}\".format(case_1))"
   ]
  },
  {
   "cell_type": "code",
   "execution_count": null,
   "metadata": {},
   "outputs": [],
   "source": [
    "# case 2\n",
    "\n",
    "qreg2 = QuantumRegister(1) # quantum register with a single qubit\n",
    "creg2 = ClassicalRegister(1) # classical register with a single bit\n",
    "circuit2 = QuantumCircuit(qreg2,creg2) # quantum circuit with quantum and classical registers\n",
    "\n",
    "# rotate the qubit with theta\n",
    "circuit2.initialize([cos(theta), sin(theta)],qreg2);\n",
    "# rotate the qubit with +theta1\n",
    "circuit2.ry(+2*theta1,qreg2[0])\n",
    "\n",
    "circuit2.measure(qreg2,creg2)\n",
    "\n",
    "# execute the program 100 times\n",
    "job = execute(circuit2, Aer.get_backend('qasm_simulator'), shots=100)\n",
    "\n",
    "counts = job.result().get_counts(circuit2)\n",
    "\n",
    "case_2 = 0\n",
    "if '0' in counts:\n",
    "    case_2 = counts['0']\n",
    "print(\"the number of observed 0s in the second case is {}\".format(case_2))"
   ]
  },
  {
   "cell_type": "code",
   "execution_count": null,
   "metadata": {},
   "outputs": [],
   "source": [
    "if case_1 > case_2:\n",
    "    print(\"theta should be in the first quadrant\")\n",
    "else:\n",
    "    print(\"theta should be in the second quadrant\")"
   ]
  }
 ],
 "metadata": {
  "kernelspec": {
   "display_name": "Python 3",
   "language": "python",
   "name": "python3"
  },
  "language_info": {
   "codemirror_mode": {
    "name": "ipython",
    "version": 3
   },
   "file_extension": ".py",
   "mimetype": "text/x-python",
   "name": "python",
   "nbconvert_exporter": "python",
   "pygments_lexer": "ipython3",
   "version": "3.7.3"
  }
 },
 "nbformat": 4,
 "nbformat_minor": 4
}
