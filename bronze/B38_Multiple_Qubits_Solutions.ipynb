{
 "cells": [
  {
   "cell_type": "markdown",
   "metadata": {},
   "source": [
    "<table>\n",
    "    <tr><td align=\"right\" style=\"background-color:#ffffff;\">\n",
    "        <img src=\"../images/logo.jpg\" width=\"20%\" align=\"right\">\n",
    "    </td></tr>\n",
    "    <tr><td align=\"right\" style=\"color:#777777;background-color:#ffffff;font-size:12px;\">\n",
    "        Prepared by Abuzer Yakaryilmaz <br>\n",
    "        Özlem Salehi | August 28, 2019 (updated)\n",
    "    </td></tr>\n",
    "    <tr><td align=\"right\" style=\"color:#bbbbbb;background-color:#ffffff;font-size:11px;font-style:italic;\">\n",
    "        This cell contains some macros. If there is a problem with displaying mathematical formulas, please run this cell to load these macros.\n",
    "    </td></tr>\n",
    "</table>\n",
    "$ \\newcommand{\\bra}[1]{\\langle #1|} $\n",
    "$ \\newcommand{\\ket}[1]{|#1\\rangle} $\n",
    "$ \\newcommand{\\braket}[2]{\\langle #1|#2\\rangle} $\n",
    "$ \\newcommand{\\dot}[2]{ #1 \\cdot #2} $\n",
    "$ \\newcommand{\\biginner}[2]{\\left\\langle #1,#2\\right\\rangle} $\n",
    "$ \\newcommand{\\mymatrix}[2]{\\left( \\begin{array}{#1} #2\\end{array} \\right)} $\n",
    "$ \\newcommand{\\myvector}[1]{\\mymatrix{c}{#1}} $\n",
    "$ \\newcommand{\\myrvector}[1]{\\mymatrix{r}{#1}} $\n",
    "$ \\newcommand{\\mypar}[1]{\\left( #1 \\right)} $\n",
    "$ \\newcommand{\\mybigpar}[1]{ \\Big( #1 \\Big)} $\n",
    "$ \\newcommand{\\sqrttwo}{\\frac{1}{\\sqrt{2}}} $\n",
    "$ \\newcommand{\\dsqrttwo}{\\dfrac{1}{\\sqrt{2}}} $\n",
    "$ \\newcommand{\\onehalf}{\\frac{1}{2}} $\n",
    "$ \\newcommand{\\donehalf}{\\dfrac{1}{2}} $\n",
    "$ \\newcommand{\\hadamard}{ \\mymatrix{rr}{ \\sqrttwo & \\sqrttwo \\\\ \\sqrttwo & -\\sqrttwo }} $\n",
    "$ \\newcommand{\\vzero}{\\myvector{1\\\\0}} $\n",
    "$ \\newcommand{\\vone}{\\myvector{0\\\\1}} $\n",
    "$ \\newcommand{\\vhadamardzero}{\\myvector{ \\sqrttwo \\\\  \\sqrttwo } } $\n",
    "$ \\newcommand{\\vhadamardone}{ \\myrvector{ \\sqrttwo \\\\ -\\sqrttwo } } $\n",
    "$ \\newcommand{\\myarray}[2]{ \\begin{array}{#1}#2\\end{array}} $\n",
    "$ \\newcommand{\\X}{ \\mymatrix{cc}{0 & 1 \\\\ 1 & 0}  } $\n",
    "$ \\newcommand{\\Z}{ \\mymatrix{rr}{1 & 0 \\\\ 0 & -1}  } $\n",
    "$ \\newcommand{\\Htwo}{ \\mymatrix{rrrr}{ \\frac{1}{2} & \\frac{1}{2} & \\frac{1}{2} & \\frac{1}{2} \\\\ \\frac{1}{2} & -\\frac{1}{2} & \\frac{1}{2} & -\\frac{1}{2} \\\\ \\frac{1}{2} & \\frac{1}{2} & -\\frac{1}{2} & -\\frac{1}{2} \\\\ \\frac{1}{2} & -\\frac{1}{2} & -\\frac{1}{2} & \\frac{1}{2} } } $\n",
    "$ \\newcommand{\\CNOT}{ \\mymatrix{cccc}{1 & 0 & 0 & 0 \\\\ 0 & 1 & 0 & 0 \\\\ 0 & 0 & 0 & 1 \\\\ 0 & 0 & 1 & 0} } $\n",
    "$ \\newcommand{\\norm}[1]{ \\left\\lVert #1 \\right\\rVert } $"
   ]
  },
  {
   "cell_type": "markdown",
   "metadata": {},
   "source": [
    "<h2> <font color=\"blue\"> Solutions </font> for Multiple Qubits </h2>"
   ]
  },
  {
   "cell_type": "markdown",
   "metadata": {},
   "source": [
    "<a id=\"task1\"></a>\n",
    "<h3> Task 1 </h3>\n",
    "\n",
    "Find the state of the composite system."
   ]
  },
  {
   "cell_type": "markdown",
   "metadata": {},
   "source": [
    "<h3> Solution </h3>\n",
    "\n",
    "$$ \\Bigg(\\frac{1}{\\sqrt{3}} \\ket{0} + \\frac{\\sqrt{2}}{\\sqrt{3}} \\ket{1} \\Bigg ) \\otimes  \\Bigg( -\\frac{1}{\\sqrt{2}} \\ket{0} + \\frac{1}{\\sqrt{2}} \\ket{1} \\Bigg )=$$\n",
    "\n",
    "\n",
    "$$ -\\frac{1}{\\sqrt{6}}\\big( \\ket{0} \\otimes \\ket{0} \\big) + \\frac{1}{\\sqrt{6}} \\big( \\ket{0} \\otimes \\ket{1} \\big) -\\frac{\\sqrt{2}}{\\sqrt{6}} \\big( \\ket{1} \\otimes \\ket{0} \\big) + \\frac{\\sqrt{2}}{\\sqrt{6}} \\big( \\ket{1} \\otimes \\ket{1} \\big) = $$\n",
    "\n",
    "$$ -\\frac{1}{\\sqrt{6}} \\ket{00} + \\frac{1}{\\sqrt{6}} \\ket{01} -\\frac{\\sqrt{2}}{\\sqrt{6}} \\ket{10} + \\frac{\\sqrt{2}}{\\sqrt{6}} \\ket{11}. $$"
   ]
  },
  {
   "cell_type": "markdown",
   "metadata": {},
   "source": [
    "<a id = \"task2\"></a>\n",
    "<h3> Task 2 </h3>\n",
    "\n",
    "Pick one of the following cases (2, 3, or 4), and verify the correctness of all three different ways for this selected case.\n",
    "<hr>"
   ]
  },
  {
   "cell_type": "markdown",
   "metadata": {},
   "source": [
    "<h3> Solution </h3>\n",
    "<h4> Case 2: Let's find $ H^{\\otimes 2} \\ket{01} $ (in three different ways) </h4>\n",
    "<ul>\n",
    "    <li> Direct matrix-vector multiplication:\n",
    "        $$\n",
    "            H^{\\otimes 2} \\ket{01} \n",
    "            = \\Htwo \\myvector{0 \\\\ 1 \\\\ 0 \\\\ 0} \n",
    "            = \\myrvector{ \\frac{1}{2} \\\\ - \\frac{1}{2} \\\\ \\frac{1}{2} \\\\ - \\frac{1}{2} } .\n",
    "        $$ </li> \n",
    "    <li> We calculate the quantum state of each state, and then find the quantum state of the composite system.\n",
    "        $$\n",
    "            H\\ket{0} \\otimes H \\ket{1} \n",
    "            = \\vhadamardzero \\otimes \\vhadamardone \n",
    "            = \\myrvector{ \\frac{1}{2} \\\\ - \\frac{1}{2} \\\\ \\frac{1}{2} \\\\ - \\frac{1}{2} }.\n",
    "        $$ </li>\n",
    "    <li> We make calculations with $ \\ket{0} $ and $ \\ket{1} $.\n",
    "        $$\n",
    "            H \\ket{0} \\otimes H \\ket{1} \n",
    "            = \\mypar{ \\frac{1}{\\sqrt{2}} \\ket{0} + \\frac{1}{\\sqrt{2}} \\ket{1} } \n",
    "                \\otimes \\mypar{ \\frac{1}{\\sqrt{2}} \\ket{0} - \\frac{1}{\\sqrt{2}} \\ket{1} }\n",
    "            = \\frac{1}{2} \\ket{00} - \\frac{1}{2} \\ket{01} + \\frac{1}{2} \\ket{10} - \\frac{1}{2} \\ket{11} \n",
    "            = \\myrvector{ \\frac{1}{2} \\\\ - \\frac{1}{2} \\\\ \\frac{1}{2} \\\\ - \\frac{1}{2} }.\n",
    "        $$\n",
    "</ul>\n",
    "\n",
    "<h4> Case 3: Let's find $ H^{\\otimes 2} \\ket{10} $ (in three different ways) </h4>\n",
    "<ul>\n",
    "    <li> Direct matrix-vector multiplication:\n",
    "        $$\n",
    "            H^{\\otimes 2} \\ket{10} \n",
    "            = \\Htwo \\myvector{0 \\\\ 0 \\\\ 1 \\\\ 0} \n",
    "            = \\myrvector{ \\frac{1}{2} \\\\ \\frac{1}{2} \\\\ - \\frac{1}{2} \\\\ - \\frac{1}{2} } .\n",
    "        $$ </li> \n",
    "    <li> We calculate the quantum state of each state, and then find the quantum state of the composite system.\n",
    "        $$\n",
    "            H\\ket{1} \\otimes H \\ket{0} \n",
    "            = \\vhadamardone \\otimes \\vhadamardzero \n",
    "            = \\myrvector{ \\frac{1}{2} \\\\ \\frac{1}{2} \\\\ - \\frac{1}{2} \\\\ - \\frac{1}{2} }.\n",
    "        $$ </li>\n",
    "    <li> We make calculations with $ \\ket{0} $ and $ \\ket{1} $.\n",
    "        $$\n",
    "            H \\ket{1} \\otimes H \\ket{0} \n",
    "            = \\mypar{ \\frac{1}{\\sqrt{2}} \\ket{0} - \\frac{1}{\\sqrt{2}} \\ket{1} } \n",
    "                \\otimes \\mypar{ \\frac{1}{\\sqrt{2}} \\ket{0} + \\frac{1}{\\sqrt{2}} \\ket{1} }\n",
    "            = \\frac{1}{2} \\ket{00} + \\frac{1}{2} \\ket{01} - \\frac{1}{2} \\ket{10} - \\frac{1}{2} \\ket{11} \n",
    "            = \\myrvector{ \\frac{1}{2} \\\\ \\frac{1}{2} \\\\ - \\frac{1}{2} \\\\ -\\frac{1}{2} }.\n",
    "        $$\n",
    "</ul>\n",
    "\n",
    "<h4> Case 4: Let's find $ H^{\\otimes 2} \\ket{11} $ (in three different ways) </h4>\n",
    "<ul>\n",
    "    <li> Direct matrix-vector multiplication:\n",
    "        $$\n",
    "            H^{\\otimes 2} \\ket{11} \n",
    "            = \\Htwo \\myvector{0 \\\\ 0 \\\\ 0 \\\\ 1} \n",
    "            = \\myrvector{ \\frac{1}{2} \\\\ - \\frac{1}{2} \\\\ - \\frac{1}{2} \\\\ \\frac{1}{2} } .\n",
    "        $$ </li> \n",
    "    <li> We calculate the quantum state of each state, and then find the quantum state of the composite system.\n",
    "        $$\n",
    "            H\\ket{1} \\otimes H \\ket{1} \n",
    "            = \\vhadamardone \\otimes \\vhadamardone \n",
    "            = \\myrvector{ \\frac{1}{2} \\\\ - \\frac{1}{2} \\\\ - \\frac{1}{2} \\\\ \\frac{1}{2} }.\n",
    "        $$ </li>\n",
    "    <li> We make calculations with $ \\ket{0} $ and $ \\ket{1} $.\n",
    "        $$\n",
    "            H \\ket{1} \\otimes H \\ket{1} \n",
    "            = \\mypar{ \\frac{1}{\\sqrt{2}} \\ket{0} - \\frac{1}{\\sqrt{2}} \\ket{1} } \n",
    "                \\otimes \\mypar{ \\frac{1}{\\sqrt{2}} \\ket{0} - \\frac{1}{\\sqrt{2}} \\ket{1} }\n",
    "            = \\frac{1}{2} \\ket{00} - \\frac{1}{2} \\ket{01} - \\frac{1}{2} \\ket{10} + \\frac{1}{2} \\ket{11} \n",
    "            = \\myrvector{ \\frac{1}{2} \\\\ - \\frac{1}{2} \\\\ - \\frac{1}{2} \\\\ \\frac{1}{2} }.\n",
    "        $$\n",
    "</ul>"
   ]
  },
  {
   "cell_type": "markdown",
   "metadata": {},
   "source": [
    "<a id=\"task3\"></a>\n",
    "<h3> Task 3 </h3>\n",
    "\n",
    "\n",
    "If the following vectors are valid quantum states defined with real numbers, then what can be the values of $a$ and $b$?\n",
    "\n",
    "$$\n",
    "    \\ket{v} = \\myrvector{-0.1 \\\\ a \\\\ -0.3 \\\\ 0.4 \\\\ 0.5 \\\\ 0.06 \\\\ 0.07 \\\\ -0.08}\n",
    "    ~~~~~ \\mbox{and} ~~~~~\n",
    "   \\ket{u} = \\myrvector{ \\frac{1}{\\sqrt{2}} \\\\ \\frac{1}{\\sqrt{b}} \\\\ -\\frac{1}{\\sqrt{5}} \\\\ \\frac{1}{\\sqrt{10}} }.\n",
    "$$"
   ]
  },
  {
   "cell_type": "markdown",
   "metadata": {},
   "source": [
    "<h3>Solution</h3>\n"
   ]
  },
  {
   "cell_type": "code",
   "execution_count": null,
   "metadata": {},
   "outputs": [],
   "source": [
    "# vector |v>\n",
    "\n",
    "print(\"vector |v>\")\n",
    "\n",
    "values = [-0.1, -0.3, 0.4, 0.5,0.06,0.07,-0.08]\n",
    "\n",
    "total = 0 # summation of squares\n",
    "for i in range(len(values)):\n",
    "    total += values[i]**2; # add the square of each value\n",
    "print(\"total is \",total)\n",
    "print(\"the missing part is\",1-total)\n",
    "print(\"so, the value of 'a' can be\",(1-total)**0.5,\"or\",-(1-total)**0.5) # square root of the missing part\n",
    "\n",
    "print()\n",
    "print(\"vector |u>\")\n",
    "\n",
    "values = [1/(2**0.5), -1/(5**0.5),1/(10**0.5)]\n",
    "\n",
    "total = 0 # summation of squares\n",
    "for i in range(len(values)):\n",
    "    total += values[i]**2; # add the square of each value\n",
    "print(\"total is \",total)\n",
    "print(\"the missing part is\",1-total)\n",
    "# the missing part is 1/b, square of 1/sqrt(b)\n",
    "# thus, b is 1/missing_part\n",
    "print(\"so, the value of 'b' should be\",1/(1-total)) "
   ]
  },
  {
   "cell_type": "markdown",
   "metadata": {},
   "source": [
    "\n",
    "<a id=\"task4\"></a>\n",
    "<h3> Task 4</h3>\n",
    "\n",
    "Create a quantum circuit with two qubits: qreg[0] and qreg[1].\n",
    "\n",
    "<i> Qiskit combines these two qubits as qreg[1]$\\otimes$qreg[0]. </i>\n",
    "\n",
    "Apply h-gate to qreg[0].\n",
    "\n",
    "Apply first x-gate and then a z-gate to qreg[1].\n",
    "\n",
    "Calculate the quantum states of both qubits and then the quantum state of composite system (qreg[1]$\\otimes$qreg[0]) on paper.\n",
    "\n",
    "Read quantum state of the quantum circuit.\n",
    "\n",
    "Compare your results."
   ]
  },
  {
   "cell_type": "markdown",
   "metadata": {},
   "source": [
    "<h3> Solution </h3>"
   ]
  },
  {
   "cell_type": "markdown",
   "metadata": {},
   "source": [
    "The quantum state of qreg[1] is $  \\Z \\X \\vzero   = \\Z \\vone=  \\myrvector{ 0 \\\\ -1 } $.\n",
    "\n",
    "The quantum state of qreg[0] is $ \\hadamard \\myvector{ 1 \\\\ 0}   = \\vhadamardzero$.\n",
    "\n",
    "The quantum state of qreg[1]$\\otimes$qreg[0] is $ \\myvector{ 0 \\\\ -1 } \\otimes \\vhadamardzero =  \\myvector{ 0 \\vhadamardzero \\\\ -1 \\vhadamardzero } = \\myvector{0 \\\\ 0 \\\\ -\\frac{1}{\\sqrt{2} } \\\\ -\\frac{1}{\\sqrt{2} } } $."
   ]
  },
  {
   "cell_type": "code",
   "execution_count": null,
   "metadata": {},
   "outputs": [],
   "source": [
    "# we can print the values by using python\n",
    "\n",
    "print(0,0,round(-1/(2**0.5),4),round(-1/(2**0.5),4)  )\n"
   ]
  },
  {
   "cell_type": "code",
   "execution_count": null,
   "metadata": {},
   "outputs": [],
   "source": [
    "from qiskit import QuantumRegister, ClassicalRegister, QuantumCircuit, execute, Aer\n",
    "from math import pi\n",
    "\n",
    "qreg =  QuantumRegister(2)\n",
    "creg = ClassicalRegister(2)\n",
    "mycircuit1 = QuantumCircuit(qreg,creg)\n",
    "\n",
    "mycircuit1.x(qreg[1])\n",
    "mycircuit1.z(qreg[1])\n",
    "mycircuit1.h(qreg[0])\n",
    "\n",
    "job = execute(mycircuit1,Aer.get_backend('statevector_simulator'))\n",
    "current_quantum_state=job.result().get_statevector(mycircuit1)\n",
    "\n",
    "for amplitude in current_quantum_state:\n",
    "    print( round(amplitude.real,4) )"
   ]
  },
  {
   "cell_type": "markdown",
   "metadata": {},
   "source": [
    "<a id=\"task5\"></a>\n",
    "<h3> Task 5</h3>\n",
    "\n",
    "Create a quantum ciruit with 5 qubits.\n",
    "\n",
    "Apply h-gate (Hadamard operator) to each qubit.\n",
    "\n",
    "Apply z-gate ($Z$ operator) to randomly picked qubits. (i.e., $ mycircuit.z(qreg[i]) $)\n",
    "\n",
    "Apply h-gate to each qubit.\n",
    "\n",
    "Measure each qubit.\n",
    "\n",
    "Execute your program 1000 times.\n",
    "\n",
    "Compare the outcomes of the qubits affected by z-gates, and the outcomes of the qubits not affected by z-gates.\n",
    "\n",
    "Does z-gate change the outcome?\n",
    "\n",
    "Why?"
   ]
  },
  {
   "cell_type": "markdown",
   "metadata": {},
   "source": [
    "<h3> Solution </h3>"
   ]
  },
  {
   "cell_type": "code",
   "execution_count": null,
   "metadata": {},
   "outputs": [],
   "source": [
    "# import all necessary objects and methods for quantum circuits\n",
    "from qiskit import QuantumRegister, ClassicalRegister, QuantumCircuit, execute, Aer\n",
    "# import randrange for random choices\n",
    "from random import randrange\n",
    "\n",
    "number_of_qubit = 5\n",
    "\n",
    "# define a quantum register with 5 qubits\n",
    "qreg =  QuantumRegister(number_of_qubit)\n",
    "\n",
    "# define a classical register with 5 bits\n",
    "creg = ClassicalRegister(number_of_qubit)\n",
    "\n",
    "# define our quantum circuit\n",
    "mycircuit2 = QuantumCircuit(qreg,creg)\n",
    "\n",
    "# apply h-gate to all qubits\n",
    "for i in range(number_of_qubit):\n",
    "    mycircuit2.h(qreg[i])\n",
    "\n",
    "# apply z-gate to randomly picked qubits\n",
    "for i in range(number_of_qubit):\n",
    "    if randrange(2) == 0: # the qubit with index i is picked to apply z-gate\n",
    "        mycircuit2.z(qreg[i])\n",
    "        \n",
    "# apply h-gate to all qubits\n",
    "for i in range(number_of_qubit):\n",
    "    mycircuit2.h(qreg[i])\n",
    "    \n",
    "    \n",
    "# measure all qubits\n",
    "mycircuit2.measure(qreg,creg)\n",
    "\n",
    "print(\"Everything looks fine, let's continue ...\")"
   ]
  },
  {
   "cell_type": "code",
   "execution_count": null,
   "metadata": {},
   "outputs": [],
   "source": [
    "# draw the circuit\n",
    "\n",
    "mycircuit2.draw()"
   ]
  },
  {
   "cell_type": "code",
   "execution_count": null,
   "metadata": {},
   "outputs": [],
   "source": [
    "# execute the circuit 1000 times in the local simulator\n",
    "\n",
    "job = execute(mycircuit2,Aer.get_backend('qasm_simulator'),shots=1000)\n",
    "counts = job.result().get_counts(mycircuit2)\n",
    "for outcome in counts: # for each key-value in dictionary\n",
    "    reverse_outcome = ''\n",
    "    for i in outcome: # each string can be considered as a list of characters\n",
    "        reverse_outcome = i + reverse_outcome # each new symbol comes before the old symbol(s)\n",
    "    print(reverse_outcome,\"is observed\",counts[outcome],\"times\")"
   ]
  },
  {
   "cell_type": "markdown",
   "metadata": {},
   "source": [
    "We start in state $ \\ket{0} $ in each qubit.\n",
    "\n",
    "If a qubit is affected by z-gate, then its final value is changed to $ \\ket{1} $.\n",
    "\n",
    "If a qubit is not affected by z-gate, then its final value is $ \\ket{0} $."
   ]
  },
  {
   "cell_type": "markdown",
   "metadata": {},
   "source": [
    "<a id=\"task6\"></a>\n",
    "<h3> Task 6 [Extra] </h3>\n",
    "\n",
    "Design a quantum circuit with 10 quantum bits and 10 classical bits.\n",
    "\n",
    "For each quantum bit, flip a coin, and apply x-gate if the outcome is head.\n",
    "\n",
    "Measure your quantum bits.\n",
    "\n",
    "Execeute your circuit 128 times.\n",
    "\n",
    "Repeat this task as mush as you want, and enjoy your random choices."
   ]
  },
  {
   "cell_type": "markdown",
   "metadata": {},
   "source": [
    "<h3>Solution</h3>"
   ]
  },
  {
   "cell_type": "code",
   "execution_count": null,
   "metadata": {},
   "outputs": [],
   "source": [
    "# we import all necessary methods and objects\n",
    "from qiskit import QuantumRegister, ClassicalRegister, QuantumCircuit, execute, Aer\n",
    "from random import randrange\n",
    "\n",
    "# we will use 10 quantum bits and 10 classical bits\n",
    "qreg3 =  QuantumRegister(10)\n",
    "creg3 = ClassicalRegister(10)\n",
    "\n",
    "mycircuit3 = QuantumCircuit(qreg3,creg3)\n",
    "\n",
    "# we will store the index of each qubit to which x-gate is applied\n",
    "picked_qubits=[] \n",
    "\n",
    "for i in range(10):\n",
    "    if randrange(2) == 0: # Assume that 0 is Head and 1 is Tail\n",
    "        mycircuit3.x(qreg3[i]) # apply x-gate\n",
    "        print(\"x-gate is applied to the qubit with index\",i)\n",
    "        picked_qubits.append(i) # i is picked\n",
    "\n",
    "# measurement \n",
    "mycircuit3.measure(qreg3,creg3)    \n",
    "\n",
    "print(\"Everything looks fine, let's continue ...\")"
   ]
  },
  {
   "cell_type": "code",
   "execution_count": null,
   "metadata": {},
   "outputs": [],
   "source": [
    "# draw the circuit\n",
    "mycircuit3.draw(reverse_bits=True)\n",
    "\n",
    "#mycircuit3.draw(output='mpl',reverse_bits=True)\n",
    "\n",
    "# reexecute me if you DO NOT see the circuit diagram"
   ]
  },
  {
   "cell_type": "code",
   "execution_count": null,
   "metadata": {},
   "outputs": [],
   "source": [
    "# execute the circuit and read the results\n",
    "job = execute(mycircuit3,Aer.get_backend('qasm_simulator'),shots=128)\n",
    "\n",
    "counts = job.result().get_counts(mycircuit3)\n",
    "        \n",
    "print(counts)"
   ]
  }
 ],
 "metadata": {
  "kernelspec": {
   "display_name": "Python 3",
   "language": "python",
   "name": "python3"
  },
  "language_info": {
   "codemirror_mode": {
    "name": "ipython",
    "version": 3
   },
   "file_extension": ".py",
   "mimetype": "text/x-python",
   "name": "python",
   "nbconvert_exporter": "python",
   "pygments_lexer": "ipython3",
   "version": "3.7.3"
  }
 },
 "nbformat": 4,
 "nbformat_minor": 2
}
