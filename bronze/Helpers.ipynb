{
 "cells": [
  {
   "cell_type": "code",
   "execution_count": 34,
   "metadata": {},
   "outputs": [],
   "source": [
    "from time import sleep\n",
    "\n",
    "def send(x,y):\n",
    "    speed=0.2\n",
    "\n",
    "    for i in range(14):\n",
    "        print(\"-\", end=\" \")\n",
    "        sleep(speed)\n",
    "    a = ['s','e','n','d','i','n','g', ' ', 'm','e','s','s','a','g','e',' ', 'f','r','o','m',' ']\n",
    "  \n",
    "    for i in range(len(a)): \n",
    "        print(a[i], end=\" \")\n",
    "        sleep(speed)\n",
    "    \n",
    "    for i in range(len(x)): \n",
    "        print(x[i], end=\" \")\n",
    "        sleep(speed)\n",
    "    print(' t',end=\" \")\n",
    "    sleep(speed)\n",
    "    print('o ',end=\" \")\n",
    "    sleep(speed)\n",
    "    for i in range(len(y)): \n",
    "        print(y[i], end=\" \")\n",
    "        sleep(speed)\n",
    "        \n",
    "    for i in range(14):\n",
    "        print(\"-\", end=\" \")\n",
    "        sleep(speed)\n",
    "    print()\n",
    "    print(\"d o n e\")\n"
   ]
  },
  {
   "cell_type": "code",
   "execution_count": 36,
   "metadata": {},
   "outputs": [],
   "source": [
    "def print_message(x): \n",
    "    speed=0.2\n",
    "    for i in range(14):\n",
    "        print(\"-\", end=\" \")\n",
    "        sleep(speed)\n",
    "    \n",
    "    a = ['l','o','a','d','i','n','g', ' ', 'm','e','s','s','a','g','e',' ']\n",
    "  \n",
    "    for i in range(len(a)): \n",
    "        print(a[i], end=\" \")\n",
    "        sleep(speed)\n",
    "    speed=0.2\n",
    "    for i in range(14):\n",
    "        print(\"-\", end=\" \")\n",
    "        sleep(speed)\n",
    "    print()\n",
    "    print(x)"
   ]
  },
  {
   "cell_type": "code",
   "execution_count": 30,
   "metadata": {},
   "outputs": [
    {
     "name": "stdout",
     "output_type": "stream",
     "text": [
      "- - - - - - - - - - - - - - s e n d i n g   m e s s a g e   f r o m   o z l e m  t o  a l i - - - - - - - - - - - - - - \n",
      "d o n e\n"
     ]
    }
   ],
   "source": []
  },
  {
   "cell_type": "code",
   "execution_count": null,
   "metadata": {},
   "outputs": [],
   "source": []
  }
 ],
 "metadata": {
  "kernelspec": {
   "display_name": "Python 3",
   "language": "python",
   "name": "python3"
  },
  "language_info": {
   "codemirror_mode": {
    "name": "ipython",
    "version": 3
   },
   "file_extension": ".py",
   "mimetype": "text/x-python",
   "name": "python",
   "nbconvert_exporter": "python",
   "pygments_lexer": "ipython3",
   "version": "3.7.3"
  }
 },
 "nbformat": 4,
 "nbformat_minor": 2
}
