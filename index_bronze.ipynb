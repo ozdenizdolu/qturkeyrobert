{
 "cells": [
  {
   "cell_type": "markdown",
   "metadata": {},
   "source": [
    "<hr>\n",
    "  <td><img src=\"images\\qturkey.png\" width=\"25%\" align=\"middle\"></td>\n",
    "<hr>"
   ]
  },
  {
   "cell_type": "markdown",
   "metadata": {},
   "source": [
    "<table> \n",
    "    <tr>\n",
    "        <td  style=\"background-color:#ffffff;\"><a href=\"https://qsoftware.lu.lv/index.php/qworld/\" target=\"_blank\"><img src=\"images\\qworld.jpg\" width=\"70%\" align=\"left\"></a></td>\n",
    "        <td  style=\"background-color:#ffffff;vertical-align:text-top;\"><a href=\"https://qsoftware.lu.lv\" target=\"_blank\"><img src=\"images\\logo.jpg\" width=\"25%\" align=\"right\"></a></td>        \n",
    "    </tr>\n",
    "</table>\n",
    "       \n",
    "$ \\newcommand{\\bra}[1]{\\langle #1\\rvert} $\n",
    "$ \\newcommand{\\ket}[1]{\\lvert#1\\rangle} $\n",
    "$ \\newcommand{\\braket}[2]{\\langle #1\\lvert#2\\rangle} $\n",
    "$ \\newcommand{\\inner}[2]{\\langle #1,#2\\rangle} $\n",
    "$ \\newcommand{\\biginner}[2]{\\left\\langle #1,#2\\right\\rangle} $\n",
    "$ \\newcommand{\\mymatrix}[2]{\\left( \\begin{array}{#1} #2\\end{array} \\right)} $\n",
    "$ \\newcommand{\\myvector}[1]{\\mymatrix{c}{#1}} $\n",
    "$ \\newcommand{\\myrvector}[1]{\\mymatrix{r}{#1}} $\n",
    "$ \\newcommand{\\mypar}[1]{\\left( #1 \\right)} $\n",
    "$ \\newcommand{\\mybigpar}[1]{ \\Big( #1 \\Big)} $\n",
    "$ \\newcommand{\\sqrttwo}{\\frac{1}{\\sqrt{2}}} $\n",
    "$ \\newcommand{\\dsqrttwo}{\\dfrac{1}{\\sqrt{2}}} $\n",
    "$ \\newcommand{\\onehalf}{\\frac{1}{2}} $\n",
    "$ \\newcommand{\\donehalf}{\\dfrac{1}{2}} $\n",
    "$ \\newcommand{\\hadamard}{ \\mymatrix{rr}{ \\sqrttwo & \\sqrttwo \\\\ \\sqrttwo & -\\sqrttwo }} $\n",
    "$ \\newcommand{\\vzero}{\\myvector{1\\\\0}} $\n",
    "$ \\newcommand{\\vone}{\\myvector{0\\\\1}} $\n",
    "$ \\newcommand{\\vhadamardzero}{\\myvector{ \\sqrttwo \\\\  \\sqrttwo } } $\n",
    "$ \\newcommand{\\vhadamardone}{ \\myrvector{ \\sqrttwo \\\\ -\\sqrttwo } } $\n",
    "$ \\newcommand{\\myarray}[2]{ \\begin{array}{#1}#2\\end{array}} $\n",
    "$ \\newcommand{\\X}{ \\mymatrix{cc}{0 & 1 \\\\ 1 & 0}  } $\n",
    "$ \\newcommand{\\Z}{ \\mymatrix{rr}{1 & 0 \\\\ 0 & -1}  } $\n",
    "$ \\newcommand{\\Htwo}{ \\mymatrix{rrrr}{ \\frac{1}{2} & \\frac{1}{2} & \\frac{1}{2} & \\frac{1}{2} \\\\ \\frac{1}{2} & -\\frac{1}{2} & \\frac{1}{2} & -\\frac{1}{2} \\\\ \\frac{1}{2} & \\frac{1}{2} & -\\frac{1}{2} & -\\frac{1}{2} \\\\ \\frac{1}{2} & -\\frac{1}{2} & -\\frac{1}{2} & \\frac{1}{2} } } $\n",
    "$ \\newcommand{\\CNOT}{ \\mymatrix{cccc}{1 & 0 & 0 & 0 \\\\ 0 & 1 & 0 & 0 \\\\ 0 & 0 & 0 & 1 \\\\ 0 & 0 & 1 & 0} } $\n",
    "$ \\newcommand{\\norm}[1]{ \\left\\lVert #1 \\right\\rVert } $"
   ]
  },
  {
   "cell_type": "markdown",
   "metadata": {},
   "source": [
    "<table><tr style=\"background-color:white;\">\n",
    "    <td>Follow Us (QWorld)</td>\n",
    "    <td><a href=\"https://www.facebook.com/qworld19/\" target=\"_blank\"><img src=\"images/facebook-icon.png\" width=\"30px\"></a></td>\n",
    "    <td><a href=\"https://twitter.com/QWorld19\" target=\"_blank\"><img src=\"images/twitter-icon.png\" width=\"30px\"></a></td>\n",
    "    <td>&nbsp;&nbsp;&nbsp;&nbsp;</td>\n",
    "    <td>Follow QLatvia</td>\n",
    "    <td><a href=\"https://www.facebook.com/QLatviaSoftware/\" target=\"_blank\"><img src=\"images/facebook-icon.png\" width=\"30px\"></a></td>\n",
    "    <td><a href=\"https://twitter.com/QLatviaSoftware\" target=\"_blank\"><img src=\"images/twitter-icon.png\" width=\"30px\"></a></td>\n",
    "    <td>&nbsp;&nbsp;&nbsp;&nbsp;</td>\n",
    "    <td>Follow QTurkey</td>\n",
    "    <td><a href=\"https://www.facebook.com/groups/290363815207623/\" target=\"_blank\"><img src=\"images/facebook-icon.png\" width=\"30px\"></a></td>\n",
    "    <td><a href=\"https://twitter.com/KuantumTurkiye\" target=\"_blank\"><img src=\"images/twitter-icon.png\" width=\"30px\"></a></td>\n",
    "    </tr>\n",
    "</table>\n",
    "<tr>\n",
    "\n",
    "  "
   ]
  },
  {
   "cell_type": "markdown",
   "metadata": {},
   "source": [
    "This material is taken from <font style=\"color: #cd7f32;size:+1;\"><b><i>Bronze</i></b></font>, which is our introductory material to introduce the basics of quantum computation and quantum programming. Click <a href=\"https://github.com/ozlemsalehi/bronze\" target=\"_blank\">here</a> for more details.\n",
    "\n",
    "The current version uses <a href=\"https://www.python.org\" target=\"_blank\">python</a> as _the programming language_ and <a href=\"https://qiskit.org\" target=\"_blank\">Qiskit library</a> for _writing quantum programs_. We also use open source  interactive tool <a href=\"http://play.quantumgame.io\" target=\"_blank\">quantumgame</a> for showing _quantum coin flipping experiments_.\n",
    "    \n",
    "<i>If you are using Jupyter notebooks for the first time, you may shortly check <a href=\"test/Cells_in_notebook.ipynb\" target=\"_blank\">Cells in Notebook</a>.</i>"
   ]
  },
  {
   "cell_type": "markdown",
   "metadata": {},
   "source": [
    "<b>References</b>\n",
    "<ul type=\"a\">\n",
    "    <li><a href=\"python/Python04_Quick_Reference.ipynb\" target=\"_blank\">Python Reference</a></li>\n",
    "    <li><a href=\"python/Python06_Drawing.ipynb\" target=\"_blank\">Python: Drawing</a></li>\n",
    "    <li><a href=\"bronze/B01_Qiskit_Reference.ipynb\" target=\"_blank\">Qiskit Reference</a></li>\n",
    "</ul>"
   ]
  },
  {
   "cell_type": "markdown",
   "metadata": {},
   "source": [
    "<b>Connecting to real quantum computers</b> (optional)\n",
    "<ul>\n",
    "    <li><a href=\"https://qiskit.org/documentation/install.html#install-access-ibm-q-devices-label\" target=\"_blank\">Access IBM Q Systems</a> (external link)</li>\n",
    "       <li><a href=\"test/Executing_quantum_programs_on_IBMQ.ipynb\" target=\"_blank\">Executing Quantum Programs on IBMQ</a>\n",
    "</ul>"
   ]
  },
  {
   "cell_type": "markdown",
   "metadata": {},
   "source": [
    "<b>Python review</b>\n",
    "<ul >\n",
    "    <li><a href=\"python/Python08_Basics_Variables.ipynb\" target=\"_blank\">Variables</a></li>\n",
    "    <li><a href=\"python/Python12_Basics_Loops.ipynb\" target=\"_blank\">Loops</a></li>\n",
    "    <li><a href=\"python/Python16_Basics_Conditionals.ipynb\" target=\"_blank\">Conditionals</a></li>\n",
    "    <li><a href=\"python/Python20_Basics_Lists.ipynb\" target=\"_blank\">Lists</a></li>\n",
    "</ul>"
   ]
  },
  {
   "cell_type": "markdown",
   "metadata": {},
   "source": [
    "<b>Basic math</b>\n",
    "<ul>\n",
    "    <li><a href=\"math/Math20_Vectors.ipynb\" target=\"_blank\">Vectors</a></li>\n",
    "    <li><a href=\"math/Math24_Dot_Product.ipynb\" target=\"_blank\">Dot Product</a></li>\n",
    "    <li><a href=\"math/Math28_Matrices.ipynb\" target=\"_blank\">Matrices</a></li>\n",
    "    <li><a href=\"math/Math32_Tensor_Product.ipynb\" target=\"_blank\">Tensor Product</a></li>\n",
    "<ul>"
   ]
  },
  {
   "cell_type": "markdown",
   "metadata": {},
   "source": [
    "<b>Probabilistic systems</b>\n",
    "<ol>\n",
    "    <li><a href=\"bronze/B03_One_Bit.ipynb\" target=\"_blank\">One Bit</a></li>\n",
    "    <li><a href=\"bronze/B06_Coin_Flip.ipynb\" target=\"_blank\">Coin Flipping</a></li>\n",
    "    <li><a href=\"bronze/B07_Probabilistic_Bit.ipynb\" target=\"_blank\">Probabilistic Bit</a></li>   \n",
    "     <li><a href=\"bronze/B12_Probabilistic_States.ipynb\" target=\"_blank\">Probabilistic States</a></li> \n",
    "     <li><a href=\"bronze/B09_Coin_Flip_Game.ipynb\" target=\"_blank\">Coin Flipping Game</a></li>\n",
    "    <li><a href=\"bronze/B15_Probabilistic_Operators.ipynb\" target=\"_blank\">Probabilistic Operators</a></li> \n",
    "    <li><a href=\"bronze/B17_Two_Probabilistic_Bits.ipynb\" target=\"_blank\">Two Probabilistic Bits</a></li> \n",
    "</ol>"
   ]
  },
  {
   "cell_type": "markdown",
   "metadata": {},
   "source": [
    "\n",
    "<b>Basics of quantum systems</b>\n",
    "<ol start=\"8\">\n",
    "    <li><a href=\"bronze/B20_Quantum_Coin_Flipping.ipynb\" target=\"_blank\">Quantum Coin Flipping</a></li>\n",
    "    <!--\n",
    "<li><a style=\"color:#d0d0d0;\" href=\"bronze/B22_Waves_and_Interference.ipynb\" target=\"_blank\">Waves and Interference</a></li>\n",
    "--> <li><a href=\"bronze/B25_One_Qubit.ipynb\" target=\"_blank\">One Qubit</a></li>\n",
    "    <li><a href=\"bronze/B29_Quantum_Operators.ipynb\" target=\"_blank\">Quantum Operators</a></li> \n",
    "    <li><a href=\"bronze/B24_Hadamard.ipynb\" target=\"_blank\">Hadamard Operator</a></li>\n",
    "    <li><a href=\"bronze/B38_Multiple_Qubits.ipynb\" target=\"_blank\">Multiple Qubits</a></li>\n",
    "    <li><a href=\"bronze/B39_Controlled_Operations.ipynb\"target=\"_blank\">Controlled Operations</a></li>\n",
    "</ol>"
   ]
  },
  {
   "cell_type": "markdown",
   "metadata": {},
   "source": [
    "<b>Basic quantum protocols</b>\n",
    "<ol start=\"14\">\n",
    "     <li><a href=\"bronze/Entanglement.ipynb\" target=\"_blank\">Entanglement</a></li> \n",
    "    <li><a href=\"bronze/Superdense_Coding.ipynb\" target=\"_blank\">Superdense Coding</a></li> \n",
    "   \n",
    "</ol>\n"
   ]
  },
  {
   "cell_type": "markdown",
   "metadata": {},
   "source": [
    " <li><a href=\"bronze/References.ipynb\" target=\"_blank\">Further References</a></li>"
   ]
  }
 ],
 "metadata": {
  "kernelspec": {
   "display_name": "Python 3",
   "language": "python",
   "name": "python3"
  },
  "language_info": {
   "codemirror_mode": {
    "name": "ipython",
    "version": 3
   },
   "file_extension": ".py",
   "mimetype": "text/x-python",
   "name": "python",
   "nbconvert_exporter": "python",
   "pygments_lexer": "ipython3",
   "version": "3.7.3"
  }
 },
 "nbformat": 4,
 "nbformat_minor": 4
}
