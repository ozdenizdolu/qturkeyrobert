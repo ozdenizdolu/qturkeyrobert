{
 "cells": [
  {
   "cell_type": "markdown",
   "metadata": {},
   "source": [
    "<table>\n",
    "    <tr>\n",
    "        <td  style=\"background-color:#ffffff;\"><a href=\"https://qsoftware.lu.lv/index.php/qworld/\" target=\"_blank\"><img src=\"..\\images\\qworld.jpg\" width=\"70%\" align=\"left\"></a></td>\n",
    "        <td style=\"background-color:#ffffff;\" width=\"*\"></td>\n",
    "        <td  style=\"background-color:#ffffff;vertical-align:text-top;\"><a href=\"https://qsoftware.lu.lv\" target=\"_blank\"><img src=\"..\\images\\logo.jpg\" width=\"25%\" align=\"right\"></a></td>        \n",
    "    </tr>\n",
    "    <tr><td colspan=\"3\" align=\"right\" style=\"color:#777777;background-color:#ffffff;font-size:12px;\">\n",
    "        prepared by <a href=\"http://abu.lu.lv\" target=\"_blank\">Abuzer Yakaryilmaz</a>\n",
    "    </td></tr>\n",
    "    <tr><td colspan=\"3\" align=\"right\" style=\"color:#bbbbbb;background-color:#ffffff;font-size:11px;font-style:italic;\">\n",
    "        This cell contains some macros. If there is a problem with displaying mathematical formulas, please run this cell to load these macros.\n",
    "    </td></tr>\n",
    "</table>\n",
    "$ \\newcommand{\\bra}[1]{\\langle #1|} $\n",
    "$ \\newcommand{\\ket}[1]{|#1\\rangle} $\n",
    "$ \\newcommand{\\braket}[2]{\\langle #1|#2\\rangle} $\n",
    "$ \\newcommand{\\dot}[2]{ #1 \\cdot #2} $\n",
    "$ \\newcommand{\\biginner}[2]{\\left\\langle #1,#2\\right\\rangle} $\n",
    "$ \\newcommand{\\mymatrix}[2]{\\left( \\begin{array}{#1} #2\\end{array} \\right)} $\n",
    "$ \\newcommand{\\myvector}[1]{\\mymatrix{c}{#1}} $\n",
    "$ \\newcommand{\\myrvector}[1]{\\mymatrix{r}{#1}} $\n",
    "$ \\newcommand{\\mypar}[1]{\\left( #1 \\right)} $\n",
    "$ \\newcommand{\\mybigpar}[1]{ \\Big( #1 \\Big)} $\n",
    "$ \\newcommand{\\sqrttwo}{\\frac{1}{\\sqrt{2}}} $\n",
    "$ \\newcommand{\\dsqrttwo}{\\dfrac{1}{\\sqrt{2}}} $\n",
    "$ \\newcommand{\\onehalf}{\\frac{1}{2}} $\n",
    "$ \\newcommand{\\donehalf}{\\dfrac{1}{2}} $\n",
    "$ \\newcommand{\\hadamard}{ \\mymatrix{rr}{ \\sqrttwo & \\sqrttwo \\\\ \\sqrttwo & -\\sqrttwo }} $\n",
    "$ \\newcommand{\\vzero}{\\myvector{1\\\\0}} $\n",
    "$ \\newcommand{\\vone}{\\myvector{0\\\\1}} $\n",
    "$ \\newcommand{\\vhadamardzero}{\\myvector{ \\sqrttwo \\\\  \\sqrttwo } } $\n",
    "$ \\newcommand{\\vhadamardone}{ \\myrvector{ \\sqrttwo \\\\ -\\sqrttwo } } $\n",
    "$ \\newcommand{\\myarray}[2]{ \\begin{array}{#1}#2\\end{array}} $\n",
    "$ \\newcommand{\\X}{ \\mymatrix{cc}{0 & 1 \\\\ 1 & 0}  } $\n",
    "$ \\newcommand{\\Z}{ \\mymatrix{rr}{1 & 0 \\\\ 0 & -1}  } $\n",
    "$ \\newcommand{\\Htwo}{ \\mymatrix{rrrr}{ \\frac{1}{2} & \\frac{1}{2} & \\frac{1}{2} & \\frac{1}{2} \\\\ \\frac{1}{2} & -\\frac{1}{2} & \\frac{1}{2} & -\\frac{1}{2} \\\\ \\frac{1}{2} & \\frac{1}{2} & -\\frac{1}{2} & -\\frac{1}{2} \\\\ \\frac{1}{2} & -\\frac{1}{2} & -\\frac{1}{2} & \\frac{1}{2} } } $\n",
    "$ \\newcommand{\\CNOT}{ \\mymatrix{cccc}{1 & 0 & 0 & 0 \\\\ 0 & 1 & 0 & 0 \\\\ 0 & 0 & 0 & 1 \\\\ 0 & 0 & 1 & 0} } $\n",
    "$ \\newcommand{\\norm}[1]{ \\left\\lVert #1 \\right\\rVert } $"
   ]
  },
  {
   "cell_type": "markdown",
   "metadata": {},
   "source": [
    "<h2> Python: Drawing </h2>\n",
    "\n",
    "Here we list certain tools from the python library \"matplotlib.pyplot\" that we will use throughout the tutorial."
   ]
  },
  {
   "cell_type": "markdown",
   "metadata": {},
   "source": [
    "<u><b>Importing</b></u> some useful tools for drawing figures in python:    \n",
    "\n",
    "    from matplotlib.pyplot import plot, figure, arrow, Circle, gca, text, bar  "
   ]
  },
  {
   "cell_type": "markdown",
   "metadata": {},
   "source": [
    "<u><b>Drawing a figure</b></u> with a specified size and dpi value:\n",
    "\n",
    "    figure(figsize=(6,6), dpi=60) \n",
    "The higher dpi value makes the figure bigger.    "
   ]
  },
  {
   "cell_type": "markdown",
   "metadata": {},
   "source": [
    "<u><b>Drawing a <font color=\"blue\">blue</font> point</b></u> at (x,y):\n",
    "\n",
    "    plot(x,y,'bo')\n",
    "For <font color=\"red\">red</font> or <font color=\"green\">green</font> points, 'ro' or 'go' can be used, respectively."
   ]
  },
  {
   "cell_type": "markdown",
   "metadata": {},
   "source": [
    "<u><b>Drawing a line</b></u> from (x,y) to (x+dx,y+dy):\n",
    "\n",
    "    arrow(x,y,dx,dy)\n",
    "Additional parameters:\n",
    "<ul>\n",
    "    <li>color='red'</li>\n",
    "    <li>linewidth=1.5</li>\n",
    "    <li>linestyle='dotted' ('dashed', 'dash-dot', 'solid')</li>\n",
    "</ul>"
   ]
  },
  {
   "cell_type": "markdown",
   "metadata": {},
   "source": [
    "<u><b>Drawing a <font color=\"blue\">blue</font> arrow</b></u> from (x,y) to (x+dx,y+dy) with a specifed size head:\n",
    "    \n",
    "    arrow(x,y,dx,dy,head_width=0.04,head_length=0.08,color=\"blue\")"
   ]
  },
  {
   "cell_type": "markdown",
   "metadata": {},
   "source": [
    "<u><b>Drawing the axes</b></u> on 2-dimensional plane:\n",
    "    \n",
    "    arrow(0,0,1.1,0,head_width=0.04,head_length=0.08)\n",
    "    arrow(0,0,-1.1,0,head_width=0.04,head_length=0.08)\n",
    "    arrow(0,0,0,-1.1,head_width=0.04,head_length=0.08)\n",
    "    arrow(0,0,0,1.1,head_width=0.04,head_length=0.08)"
   ]
  },
  {
   "cell_type": "markdown",
   "metadata": {},
   "source": [
    "<b><u>Drawing a circle</u></b> centered as (x,y) with radius r on 2-dimensional plane:\n",
    "\n",
    "    gca().add_patch( Circle((x,y),r,color='black',fill=False) ) "
   ]
  },
  {
   "cell_type": "markdown",
   "metadata": {},
   "source": [
    "<b><u>Placing a text</u></b> at (x,y):\n",
    "\n",
    "    text(x,y,string)\n",
    "Additional parameters:\n",
    "<ul>\n",
    "    <li>rotation=90 (numeric degree values)</li>\n",
    "    <li>fontsize=12 </li>\n",
    "</ul>    "
   ]
  },
  {
   "cell_type": "markdown",
   "metadata": {},
   "source": [
    "<b><u>Drawing a bar</u></b>:\n",
    "\n",
    "    bar(list_of_labels,list_of_data)   "
   ]
  },
  {
   "cell_type": "markdown",
   "metadata": {},
   "source": [
    "<hr>"
   ]
  },
  {
   "cell_type": "markdown",
   "metadata": {},
   "source": [
    "<h3> Our pre-defined functions </h3>\n",
    "\n",
    "We include our predefined functions by using the following line of code:\n",
    "\n",
    "    %run qlatvia.py\n",
    "<table align=\"left\"><tr><td>\n",
    "The file \"/include/drawing.py\" contains our predefined functions for drawing.\n",
    "    </td></tr></table>"
   ]
  },
  {
   "cell_type": "markdown",
   "metadata": {},
   "source": [
    "<u><b>Drawing the axes</b></u> on 2-dimensional plane:\n",
    "\n",
    "    import matplotlib\n",
    "    def draw_axes():\n",
    "        # dummy points for zooming out\n",
    "        points = [ [1.3,0], [0,1.3], [-1.3,0], [0,-1.3] ] \n",
    "        # coordinates for the axes\n",
    "        arrows = [ [1.1,0], [0,1.1], [-1.1,0], [0,-1.1] ] \n",
    "        \n",
    "        # drawing dummy points\n",
    "        for p in points: matplotlib.pyplot.plot(p[0],p[1]+0.2) \n",
    "        # drawing the axes\n",
    "        for a in arrows: matplotlib.pyplot.arrow(0,0,a[0],a[1],head_width=0.04, head_length=0.08) "
   ]
  },
  {
   "cell_type": "markdown",
   "metadata": {},
   "source": [
    "<u><b>Drawing the unit circle</b></u> on 2-dimensional plane:\n",
    "\n",
    "    import matplotlib\n",
    "    def draw_unit_circle():\n",
    "        unit_circle= matplotlib.pyplot.Circle((0,0),1,color='black',fill=False)\n",
    "        matplotlib.pyplot.gca().add_patch(unit_circle) "
   ]
  },
  {
   "cell_type": "markdown",
   "metadata": {},
   "source": [
    "<u><b>Drawing a quantum state</b></u> on 2-dimensional plane:\n",
    "\n",
    "    import matplotlib\n",
    "    def draw_quantum_state(x,y,name):\n",
    "        # shorten the line length to 0.92\n",
    "        # line_length + head_length should be 1\n",
    "        x1 = 0.92 * x\n",
    "        y1 = 0.92 * y\n",
    "        matplotlib.pyplot.arrow(0,0,x1,y1,head_width=0.04,head_length=0.08,color=\"blue\")\n",
    "        x2 = 1.15 * x\n",
    "        y2 = 1.15 * y\n",
    "        matplotlib.pyplot.text(x2,y2,name)"
   ]
  },
  {
   "cell_type": "markdown",
   "metadata": {},
   "source": [
    "<u><b>Drawing a qubit</b></u> on 2-dimensional plane:\n",
    "\n",
    "    import matplotlib\n",
    "    def draw_qubit():\n",
    "        # draw a figure\n",
    "        matplotlib.pyplot.figure(figsize=(6,6), dpi=60)\n",
    "        # draw the origin\n",
    "        matplotlib.pyplot.plot(0,0,'ro') # a point in red color\n",
    "        # drawing the axes by using one of our predefined functions\n",
    "        draw_axes()\n",
    "        # drawing the unit circle by using one of our predefined functions\n",
    "        draw_unit_circle()\n",
    "        # drawing |0>\n",
    "        matplotlib.pyplot.plot(1,0,\"o\")\n",
    "        matplotlib.pyplot.text(1.05,0.05,\"|0>\")\n",
    "        # drawing |1>\n",
    "        matplotlib.pyplot.plot(0,1,\"o\")\n",
    "        matplotlib.pyplot.text(0.05,1.05,\"|1>\")\n",
    "        # drawing -|0>\n",
    "        matplotlib.pyplot.plot(-1,0,\"o\")\n",
    "        matplotlib.pyplot.text(-1.2,-0.1,\"-|0>\")\n",
    "        # drawing -|1>\n",
    "        matplotlib.pyplot.plot(0,-1,\"o\")\n",
    "        matplotlib.pyplot.text(-0.2,-1.1,\"-|1>\")"
   ]
  },
  {
   "cell_type": "code",
   "execution_count": null,
   "metadata": {},
   "outputs": [],
   "source": []
  }
 ],
 "metadata": {
  "kernelspec": {
   "display_name": "Python 3",
   "language": "python",
   "name": "python3"
  },
  "language_info": {
   "codemirror_mode": {
    "name": "ipython",
    "version": 3
   },
   "file_extension": ".py",
   "mimetype": "text/x-python",
   "name": "python",
   "nbconvert_exporter": "python",
   "pygments_lexer": "ipython3",
   "version": "3.7.1"
  }
 },
 "nbformat": 4,
 "nbformat_minor": 2
}
